{
  "nbformat": 4,
  "nbformat_minor": 0,
  "metadata": {
    "colab": {
      "name": "ASS==12",
      "provenance": []
    },
    "kernelspec": {
      "name": "python3",
      "display_name": "Python 3"
    },
    "language_info": {
      "name": "python"
    }
  },
  "cells": [
    {
      "cell_type": "code",
      "metadata": {
        "id": "WW8BqtDPV7iA"
      },
      "source": [
        "import pandas as pd\n",
        "import numpy as np\n",
        "import math\n",
        "import random\n",
        "import matplotlib.pyplot as plt\n",
        "from random import shuffle\n",
        "from sklearn.preprocessing import minmax_scale\n",
        "from sklearn.model_selection import train_test_split"
      ],
      "execution_count": 1,
      "outputs": []
    },
    {
      "cell_type": "code",
      "metadata": {
        "colab": {
          "base_uri": "https://localhost:8080/",
          "height": 195
        },
        "id": "NvAkUM9_WBUi",
        "outputId": "d99072f7-6f77-476b-8561-8261df2909f8"
      },
      "source": [
        "load_data = pd.read_excel(\"/content/Load Data in kW (1).xlsx\")\n",
        "load_data.head()\n"
      ],
      "execution_count": 2,
      "outputs": [
        {
          "output_type": "execute_result",
          "data": {
            "text/html": [
              "<div>\n",
              "<style scoped>\n",
              "    .dataframe tbody tr th:only-of-type {\n",
              "        vertical-align: middle;\n",
              "    }\n",
              "\n",
              "    .dataframe tbody tr th {\n",
              "        vertical-align: top;\n",
              "    }\n",
              "\n",
              "    .dataframe thead th {\n",
              "        text-align: right;\n",
              "    }\n",
              "</style>\n",
              "<table border=\"1\" class=\"dataframe\">\n",
              "  <thead>\n",
              "    <tr style=\"text-align: right;\">\n",
              "      <th></th>\n",
              "      <th>5551.82208</th>\n",
              "    </tr>\n",
              "  </thead>\n",
              "  <tbody>\n",
              "    <tr>\n",
              "      <th>0</th>\n",
              "      <td>4983.17184</td>\n",
              "    </tr>\n",
              "    <tr>\n",
              "      <th>1</th>\n",
              "      <td>4888.39680</td>\n",
              "    </tr>\n",
              "    <tr>\n",
              "      <th>2</th>\n",
              "      <td>5072.95872</td>\n",
              "    </tr>\n",
              "    <tr>\n",
              "      <th>3</th>\n",
              "      <td>5196.25980</td>\n",
              "    </tr>\n",
              "    <tr>\n",
              "      <th>4</th>\n",
              "      <td>5641.29720</td>\n",
              "    </tr>\n",
              "  </tbody>\n",
              "</table>\n",
              "</div>"
            ],
            "text/plain": [
              "   5551.82208\n",
              "0  4983.17184\n",
              "1  4888.39680\n",
              "2  5072.95872\n",
              "3  5196.25980\n",
              "4  5641.29720"
            ]
          },
          "metadata": {
            "tags": []
          },
          "execution_count": 2
        }
      ]
    },
    {
      "cell_type": "code",
      "metadata": {
        "colab": {
          "base_uri": "https://localhost:8080/",
          "height": 284
        },
        "id": "-BFxnIo3WN7Q",
        "outputId": "832a7bd5-0ea5-4afb-9af1-14eaa15c1cf6"
      },
      "source": [
        "load_data.describe()"
      ],
      "execution_count": 3,
      "outputs": [
        {
          "output_type": "execute_result",
          "data": {
            "text/html": [
              "<div>\n",
              "<style scoped>\n",
              "    .dataframe tbody tr th:only-of-type {\n",
              "        vertical-align: middle;\n",
              "    }\n",
              "\n",
              "    .dataframe tbody tr th {\n",
              "        vertical-align: top;\n",
              "    }\n",
              "\n",
              "    .dataframe thead th {\n",
              "        text-align: right;\n",
              "    }\n",
              "</style>\n",
              "<table border=\"1\" class=\"dataframe\">\n",
              "  <thead>\n",
              "    <tr style=\"text-align: right;\">\n",
              "      <th></th>\n",
              "      <th>5551.82208</th>\n",
              "    </tr>\n",
              "  </thead>\n",
              "  <tbody>\n",
              "    <tr>\n",
              "      <th>count</th>\n",
              "      <td>2183.000000</td>\n",
              "    </tr>\n",
              "    <tr>\n",
              "      <th>mean</th>\n",
              "      <td>6393.616060</td>\n",
              "    </tr>\n",
              "    <tr>\n",
              "      <th>std</th>\n",
              "      <td>17143.020064</td>\n",
              "    </tr>\n",
              "    <tr>\n",
              "      <th>min</th>\n",
              "      <td>3377.919600</td>\n",
              "    </tr>\n",
              "    <tr>\n",
              "      <th>25%</th>\n",
              "      <td>5257.520640</td>\n",
              "    </tr>\n",
              "    <tr>\n",
              "      <th>50%</th>\n",
              "      <td>5935.910400</td>\n",
              "    </tr>\n",
              "    <tr>\n",
              "      <th>75%</th>\n",
              "      <td>6738.692400</td>\n",
              "    </tr>\n",
              "    <tr>\n",
              "      <th>max</th>\n",
              "      <td>805444.430400</td>\n",
              "    </tr>\n",
              "  </tbody>\n",
              "</table>\n",
              "</div>"
            ],
            "text/plain": [
              "          5551.82208\n",
              "count    2183.000000\n",
              "mean     6393.616060\n",
              "std     17143.020064\n",
              "min      3377.919600\n",
              "25%      5257.520640\n",
              "50%      5935.910400\n",
              "75%      6738.692400\n",
              "max    805444.430400"
            ]
          },
          "metadata": {
            "tags": []
          },
          "execution_count": 3
        }
      ]
    },
    {
      "cell_type": "code",
      "metadata": {
        "colab": {
          "base_uri": "https://localhost:8080/"
        },
        "id": "470TJ0TtWRk-",
        "outputId": "60e64e39-dc61-4354-8ace-1af8c060ebdc"
      },
      "source": [
        "load_data.info()\n"
      ],
      "execution_count": 4,
      "outputs": [
        {
          "output_type": "stream",
          "text": [
            "<class 'pandas.core.frame.DataFrame'>\n",
            "RangeIndex: 2183 entries, 0 to 2182\n",
            "Data columns (total 1 columns):\n",
            " #   Column      Non-Null Count  Dtype  \n",
            "---  ------      --------------  -----  \n",
            " 0   5551.82208  2183 non-null   float64\n",
            "dtypes: float64(1)\n",
            "memory usage: 17.2 KB\n"
          ],
          "name": "stdout"
        }
      ]
    },
    {
      "cell_type": "code",
      "metadata": {
        "colab": {
          "base_uri": "https://localhost:8080/",
          "height": 399
        },
        "id": "xTgNrQSxWVJC",
        "outputId": "f11bbaa4-e32a-4c9d-d582-8ef21cf77a65"
      },
      "source": [
        "plt.boxplot(load_data.iloc[:,0])\n"
      ],
      "execution_count": 5,
      "outputs": [
        {
          "output_type": "execute_result",
          "data": {
            "text/plain": [
              "{'boxes': [<matplotlib.lines.Line2D at 0x7f2fbd4bcb90>],\n",
              " 'caps': [<matplotlib.lines.Line2D at 0x7f2fbd4d1f90>,\n",
              "  <matplotlib.lines.Line2D at 0x7f2fbd455790>],\n",
              " 'fliers': [<matplotlib.lines.Line2D at 0x7f2fbd46c790>],\n",
              " 'means': [],\n",
              " 'medians': [<matplotlib.lines.Line2D at 0x7f2fbd46c250>],\n",
              " 'whiskers': [<matplotlib.lines.Line2D at 0x7f2fbd4cbf50>,\n",
              "  <matplotlib.lines.Line2D at 0x7f2fbd4d1750>]}"
            ]
          },
          "metadata": {
            "tags": []
          },
          "execution_count": 5
        },
        {
          "output_type": "display_data",
          "data": {
            "image/png": "[encoded data removed]",
            "text/plain": [
              "<Figure size 432x288 with 1 Axes>"
            ]
          },
          "metadata": {
            "tags": [],
            "needs_background": "light"
          }
        }
      ]
    },
    {
      "cell_type": "code",
      "metadata": {
        "colab": {
          "base_uri": "https://localhost:8080/"
        },
        "id": "jYYB77AoWYcc",
        "outputId": "2f0e12bb-d186-4dcb-9eb4-3da6e4320fd5"
      },
      "source": [
        "\n",
        "from scipy import stats\n",
        "\n",
        "z = np.abs(stats.zscore(load_data.iloc[:,0]))\n",
        "\n",
        "threshold = 3\n",
        "print(np.where(z > 3))\n"
      ],
      "execution_count": 6,
      "outputs": [
        {
          "output_type": "stream",
          "text": [
            "(array([928]),)\n"
          ],
          "name": "stdout"
        }
      ]
    },
    {
      "cell_type": "code",
      "metadata": {
        "id": "kNwUXjDcWeuc"
      },
      "source": [
        "load_data.iloc[928,0] = load_data.iloc[927,0]\n"
      ],
      "execution_count": 7,
      "outputs": []
    },
    {
      "cell_type": "code",
      "metadata": {
        "colab": {
          "base_uri": "https://localhost:8080/",
          "height": 399
        },
        "id": "JJffC4utWjVY",
        "outputId": "635f2ed8-d50e-43df-9746-11bcca946fe4"
      },
      "source": [
        "plt.boxplot(load_data.iloc[:,0])\n"
      ],
      "execution_count": 8,
      "outputs": [
        {
          "output_type": "execute_result",
          "data": {
            "text/plain": [
              "{'boxes': [<matplotlib.lines.Line2D at 0x7f2fbcec9190>],\n",
              " 'caps': [<matplotlib.lines.Line2D at 0x7f2fbcecf190>,\n",
              "  <matplotlib.lines.Line2D at 0x7f2fbcecf6d0>],\n",
              " 'fliers': [<matplotlib.lines.Line2D at 0x7f2fbced71d0>],\n",
              " 'means': [],\n",
              " 'medians': [<matplotlib.lines.Line2D at 0x7f2fbcecfc50>],\n",
              " 'whiskers': [<matplotlib.lines.Line2D at 0x7f2fbcec96d0>,\n",
              "  <matplotlib.lines.Line2D at 0x7f2fbcec9c10>]}"
            ]
          },
          "metadata": {
            "tags": []
          },
          "execution_count": 8
        },
        {
          "output_type": "display_data",
          "data": {
            "image/png": "[encoded data removed]",
            "text/plain": [
              "<Figure size 432x288 with 1 Axes>"
            ]
          },
          "metadata": {
            "tags": [],
            "needs_background": "light"
          }
        }
      ]
    },
    {
      "cell_type": "code",
      "metadata": {
        "id": "SrdvMRnQWnKm"
      },
      "source": [
        "x = []\n",
        "y = []\n",
        "for i in range(len(load_data.iloc[:,0])-24):\n",
        "  x.append(load_data.iloc[i,0])\n",
        "  y.append(load_data.iloc[i+24,0])\n"
      ],
      "execution_count": 9,
      "outputs": []
    },
    {
      "cell_type": "code",
      "metadata": {
        "colab": {
          "base_uri": "https://localhost:8080/",
          "height": 282
        },
        "id": "aDdlZ89SWqxB",
        "outputId": "f7a72cd8-f03d-4690-f437-29cedc390610"
      },
      "source": [
        "plt.scatter(x,y)\n"
      ],
      "execution_count": 10,
      "outputs": [
        {
          "output_type": "execute_result",
          "data": {
            "text/plain": [
              "<matplotlib.collections.PathCollection at 0x7f2fbcef2dd0>"
            ]
          },
          "metadata": {
            "tags": []
          },
          "execution_count": 10
        },
        {
          "output_type": "display_data",
          "data": {
            "image/png": "[encoded data removed]",
            "text/plain": [
              "<Figure size 432x288 with 1 Axes>"
            ]
          },
          "metadata": {
            "tags": [],
            "needs_background": "light"
          }
        }
      ]
    },
    {
      "cell_type": "code",
      "metadata": {
        "id": "t79P5c2NWuGF"
      },
      "source": [
        "def error(d,m,c):\n",
        "  sum = 0\n",
        "  for i in range(len(d)):\n",
        "    sum = sum + math.pow(d[i][1]-m*d[i][0]-c,2)\n",
        "  return 0.5*sum/len(d)\n",
        "\n",
        "def gradm(d,m,c,v_m,v_c,momentum_coeff):\n",
        "  sum = 0\n",
        "  for i in range(len(d)):\n",
        "    sum = sum + (d[i][1]-(m+momentum_coeff*v_m)*d[i][0]-(c+momentum_coeff*v_c))*d[i][0]\n",
        "  return -1*sum/len(d)\n",
        "\n",
        "def gradc(d,m,c,v_m,v_c,momentum_coeff):\n",
        "  sum = 0\n",
        "  for i in range(len(d)):\n",
        "    sum = sum + (d[i][1]-(m+momentum_coeff*v_m)*d[i][0]-(c+momentum_coeff*v_c))\n",
        "  return -1*sum/len(d)\n"
      ],
      "execution_count": 11,
      "outputs": []
    },
    {
      "cell_type": "code",
      "metadata": {
        "id": "DDfSkon6W1-T"
      },
      "source": [
        "learning_rate = 0.01\n",
        "epochs = 20\n",
        "\n",
        "m = 1\n",
        "c = 1\n",
        "\n",
        "v_m = 0\n",
        "v_c = 0\n",
        "momentum_coeff = 0.9\n",
        "\n",
        "batch_size = 500\n"
      ],
      "execution_count": 12,
      "outputs": []
    },
    {
      "cell_type": "code",
      "metadata": {
        "id": "OUVnND4JW6J4"
      },
      "source": [
        "x = minmax_scale(x)\n",
        "y = minmax_scale(y)\n"
      ],
      "execution_count": 13,
      "outputs": []
    },
    {
      "cell_type": "code",
      "metadata": {
        "colab": {
          "base_uri": "https://localhost:8080/"
        },
        "id": "txBzaTaPW9gC",
        "outputId": "edb65ff3-bc1e-491a-f925-bb6cbdb8657a"
      },
      "source": [
        "data = []\n",
        "\n",
        "for i in range(len(x)):\n",
        "  data.append((x[i],y[i]))\n",
        "\n",
        "print(len(data))\n",
        "\n",
        "data_train,data_test = train_test_split(data,test_size=0.1)\n",
        "\n",
        "len(data_train)\n"
      ],
      "execution_count": 14,
      "outputs": [
        {
          "output_type": "stream",
          "text": [
            "2159\n"
          ],
          "name": "stdout"
        },
        {
          "output_type": "execute_result",
          "data": {
            "text/plain": [
              "1943"
            ]
          },
          "metadata": {
            "tags": []
          },
          "execution_count": 14
        }
      ]
    },
    {
      "cell_type": "code",
      "metadata": {
        "colab": {
          "base_uri": "https://localhost:8080/"
        },
        "id": "ydRFTA7EXBV0",
        "outputId": "c0b175ed-0bf5-46c5-804a-ca053cef56f9"
      },
      "source": [
        "error_list = []\n",
        "number_of_batches = (len(data_train)//batch_size)\n",
        "for i in range(epochs):\n",
        "  for j in range(number_of_batches+1):\n",
        "    if j == number_of_batches:\n",
        "      d = data_train[j*batch_size:]\n",
        "    else:\n",
        "      d = data_train[j*batch_size:(j+1)*batch_size]\n",
        "\n",
        "    deltam = -1*learning_rate*gradm(d,m,c,v_m,v_c,momentum_coeff)\n",
        "    deltac = -1*learning_rate*gradc(d,m,c,v_m,v_c,momentum_coeff)\n",
        "\n",
        "    v_m = v_m*momentum_coeff + deltam\n",
        "    v_c = v_c*momentum_coeff + deltac\n",
        "\n",
        "    m = m + v_m\n",
        "    c = c + v_c\n",
        "\n",
        "    print(\"epoch {}, batch {}, error {}\".format(i,j,error(d,m,c)))\n",
        "    error_list.append(error(d,m,c))\n",
        "  random.shuffle(data_train)\n"
      ],
      "execution_count": 15,
      "outputs": [
        {
          "output_type": "stream",
          "text": [
            "epoch 0, batch 0, error 0.4850363464965154\n",
            "epoch 0, batch 1, error 0.4885653395743512\n",
            "epoch 0, batch 2, error 0.4446524114742973\n",
            "epoch 0, batch 3, error 0.4088515217500295\n",
            "epoch 1, batch 0, error 0.36892212857074375\n",
            "epoch 1, batch 1, error 0.3238896968031633\n",
            "epoch 1, batch 2, error 0.27511279091615165\n",
            "epoch 1, batch 3, error 0.23968661719153303\n",
            "epoch 2, batch 0, error 0.19847032804404777\n",
            "epoch 2, batch 1, error 0.16420240062117708\n",
            "epoch 2, batch 2, error 0.12880924961590398\n",
            "epoch 2, batch 3, error 0.09988773501268222\n",
            "epoch 3, batch 0, error 0.07932479138880133\n",
            "epoch 3, batch 1, error 0.05775563148102344\n",
            "epoch 3, batch 2, error 0.0412708487648299\n",
            "epoch 3, batch 3, error 0.028654968911293738\n",
            "epoch 4, batch 0, error 0.02046136157498565\n",
            "epoch 4, batch 1, error 0.015196264857570543\n",
            "epoch 4, batch 2, error 0.011322911424990019\n",
            "epoch 4, batch 3, error 0.009693385318972217\n",
            "epoch 5, batch 0, error 0.009760933362439621\n",
            "epoch 5, batch 1, error 0.009177755604089033\n",
            "epoch 5, batch 2, error 0.01175785973574901\n",
            "epoch 5, batch 3, error 0.011346322752841306\n",
            "epoch 6, batch 0, error 0.014052311784726\n",
            "epoch 6, batch 1, error 0.017500107101925805\n",
            "epoch 6, batch 2, error 0.015395021858462327\n",
            "epoch 6, batch 3, error 0.019745438039984034\n",
            "epoch 7, batch 0, error 0.019171317957628973\n",
            "epoch 7, batch 1, error 0.019473122775856576\n",
            "epoch 7, batch 2, error 0.021142113092930175\n",
            "epoch 7, batch 3, error 0.021962211041244253\n",
            "epoch 8, batch 0, error 0.022437082376964703\n",
            "epoch 8, batch 1, error 0.01976094308258696\n",
            "epoch 8, batch 2, error 0.01823437220952019\n",
            "epoch 8, batch 3, error 0.016461492118420906\n",
            "epoch 9, batch 0, error 0.018490187306252532\n",
            "epoch 9, batch 1, error 0.01611829902615502\n",
            "epoch 9, batch 2, error 0.012864300091947868\n",
            "epoch 9, batch 3, error 0.014853893131850449\n",
            "epoch 10, batch 0, error 0.011628679909279713\n",
            "epoch 10, batch 1, error 0.012766726344543919\n",
            "epoch 10, batch 2, error 0.011898373481524047\n",
            "epoch 10, batch 3, error 0.011708004300272083\n",
            "epoch 11, batch 0, error 0.011123020719314838\n",
            "epoch 11, batch 1, error 0.009597950231122093\n",
            "epoch 11, batch 2, error 0.009544443784685564\n",
            "epoch 11, batch 3, error 0.009066364986199468\n",
            "epoch 12, batch 0, error 0.009574408680044487\n",
            "epoch 12, batch 1, error 0.008140485659169376\n",
            "epoch 12, batch 2, error 0.009134909625295402\n",
            "epoch 12, batch 3, error 0.009008699495500028\n",
            "epoch 13, batch 0, error 0.008089886886504914\n",
            "epoch 13, batch 1, error 0.00930627764127494\n",
            "epoch 13, batch 2, error 0.009446268710567295\n",
            "epoch 13, batch 3, error 0.008742007982865313\n",
            "epoch 14, batch 0, error 0.010237906312024767\n",
            "epoch 14, batch 1, error 0.008033960935156891\n",
            "epoch 14, batch 2, error 0.008759525945414126\n",
            "epoch 14, batch 3, error 0.009132349568992996\n",
            "epoch 15, batch 0, error 0.00903094259911983\n",
            "epoch 15, batch 1, error 0.008481380681064542\n",
            "epoch 15, batch 2, error 0.00863914777397087\n",
            "epoch 15, batch 3, error 0.010475169703251389\n",
            "epoch 16, batch 0, error 0.00816220986714799\n",
            "epoch 16, batch 1, error 0.008059842243539641\n",
            "epoch 16, batch 2, error 0.010402162681185746\n",
            "epoch 16, batch 3, error 0.009767357805990803\n",
            "epoch 17, batch 0, error 0.008988041380508393\n",
            "epoch 17, batch 1, error 0.009186274312614614\n",
            "epoch 17, batch 2, error 0.009540282808608504\n",
            "epoch 17, batch 3, error 0.00811482634972943\n",
            "epoch 18, batch 0, error 0.009378481636401039\n",
            "epoch 18, batch 1, error 0.009393724813218785\n",
            "epoch 18, batch 2, error 0.00812765419812073\n",
            "epoch 18, batch 3, error 0.008683817256474366\n",
            "epoch 19, batch 0, error 0.008880965347657517\n",
            "epoch 19, batch 1, error 0.00801996004116087\n",
            "epoch 19, batch 2, error 0.009988497663428086\n",
            "epoch 19, batch 3, error 0.008413026630241287\n"
          ],
          "name": "stdout"
        }
      ]
    },
    {
      "cell_type": "code",
      "metadata": {
        "colab": {
          "base_uri": "https://localhost:8080/",
          "height": 298
        },
        "id": "4xgrpv4qXJvP",
        "outputId": "e9002631-465c-45c1-c134-5e10ab62623e"
      },
      "source": [
        "x1 = range(len(error_list))\n",
        "y1 = error_list\n",
        "\n",
        "plt.plot(x1,y1)\n",
        "plt.title(\"error graph\")\n"
      ],
      "execution_count": 16,
      "outputs": [
        {
          "output_type": "execute_result",
          "data": {
            "text/plain": [
              "Text(0.5, 1.0, 'error graph')"
            ]
          },
          "metadata": {
            "tags": []
          },
          "execution_count": 16
        },
        {
          "output_type": "display_data",
          "data": {
            "image/png": "[encoded data removed]",
            "text/plain": [
              "<Figure size 432x288 with 1 Axes>"
            ]
          },
          "metadata": {
            "tags": [],
            "needs_background": "light"
          }
        }
      ]
    },
    {
      "cell_type": "code",
      "metadata": {
        "colab": {
          "base_uri": "https://localhost:8080/"
        },
        "id": "JCJagj9QXOIA",
        "outputId": "cbd87102-5066-46ea-d7bc-c177ad3945c5"
      },
      "source": [
        "print(\"train error :\",error(data_train,m,c))\n",
        "print(\"test error :\",error(data_test,m,c))\n"
      ],
      "execution_count": 17,
      "outputs": [
        {
          "output_type": "stream",
          "text": [
            "train error : 0.00882542847443571\n",
            "test error : 0.009156650774908133\n"
          ],
          "name": "stdout"
        }
      ]
    },
    {
      "cell_type": "code",
      "metadata": {
        "colab": {
          "base_uri": "https://localhost:8080/"
        },
        "id": "qkh7HhXMXR6E",
        "outputId": "d2679019-256a-4e96-9f84-1f1568542047"
      },
      "source": [
        "print(m,c)\n"
      ],
      "execution_count": 18,
      "outputs": [
        {
          "output_type": "stream",
          "text": [
            "0.6273403638914937 0.1859866439645934\n"
          ],
          "name": "stdout"
        }
      ]
    },
    {
      "cell_type": "code",
      "metadata": {
        "colab": {
          "base_uri": "https://localhost:8080/",
          "height": 282
        },
        "id": "mldRkuT5XVQA",
        "outputId": "02c54e04-a7ea-4ba6-a6b2-2884bf8d01d0"
      },
      "source": [
        "plt.scatter(x,y)\n"
      ],
      "execution_count": 19,
      "outputs": [
        {
          "output_type": "execute_result",
          "data": {
            "text/plain": [
              "<matplotlib.collections.PathCollection at 0x7f2fbcdc00d0>"
            ]
          },
          "metadata": {
            "tags": []
          },
          "execution_count": 19
        },
        {
          "output_type": "display_data",
          "data": {
            "image/png": "[encoded data removed]",
            "text/plain": [
              "<Figure size 432x288 with 1 Axes>"
            ]
          },
          "metadata": {
            "tags": [],
            "needs_background": "light"
          }
        }
      ]
    },
    {
      "cell_type": "code",
      "metadata": {
        "colab": {
          "base_uri": "https://localhost:8080/",
          "height": 298
        },
        "id": "t7oRgC_sXYj_",
        "outputId": "710c24d1-1b7c-4284-d625-49d40cef314c"
      },
      "source": [
        "x1 = x\n",
        "y1 = [i*m+c for i in x1]\n",
        "plt.plot(x1,y1)\n",
        "plt.title(\"predicted line\")\n"
      ],
      "execution_count": 20,
      "outputs": [
        {
          "output_type": "execute_result",
          "data": {
            "text/plain": [
              "Text(0.5, 1.0, 'predicted line')"
            ]
          },
          "metadata": {
            "tags": []
          },
          "execution_count": 20
        },
        {
          "output_type": "display_data",
          "data": {
            "image/png": "[encoded data removed]",
            "text/plain": [
              "<Figure size 432x288 with 1 Axes>"
            ]
          },
          "metadata": {
            "tags": [],
            "needs_background": "light"
          }
        }
      ]
    },
    {
      "cell_type": "code",
      "metadata": {
        "colab": {
          "base_uri": "https://localhost:8080/",
          "height": 282
        },
        "id": "lGZ_Aa8QXcw2",
        "outputId": "8b4d4453-475e-4970-a2fc-a3b514a3d1e4"
      },
      "source": [
        "plt.scatter(x,y)\n",
        "x1 = x\n",
        "y1 = [i*m+c for i in x1]\n",
        "plt.plot(x1,y1)\n"
      ],
      "execution_count": 21,
      "outputs": [
        {
          "output_type": "execute_result",
          "data": {
            "text/plain": [
              "[<matplotlib.lines.Line2D at 0x7f2fbd493050>]"
            ]
          },
          "metadata": {
            "tags": []
          },
          "execution_count": 21
        },
        {
          "output_type": "display_data",
          "data": {
            "image/png": "[encoded data removed]",
            "text/plain": [
              "<Figure size 432x288 with 1 Axes>"
            ]
          },
          "metadata": {
            "tags": [],
            "needs_background": "light"
          }
        }
      ]
    },
    {
      "cell_type": "code",
      "metadata": {
        "colab": {
          "base_uri": "https://localhost:8080/"
        },
        "id": "ZvA6rrp3XgEU",
        "outputId": "f977c25f-8cfb-4456-8cab-2d429be0b73a"
      },
      "source": [
        "input_load = float(input(\"enter yesterday load at this time : \"))\n",
        "\n",
        "max_value = 8841.669480\n",
        "min_value = 3377.919600\n",
        "\n",
        "input_load = (input_load - min_value)/(max_value-min_value)\n",
        "output_load = input_load*m+c\n",
        "\n",
        "output_load = output_load*(max_value-min_value)+min_value\n",
        "\n",
        "print(\"predicted load for this hour is : \",output_load)\n"
      ],
      "execution_count": 22,
      "outputs": [
        {
          "output_type": "stream",
          "text": [
            "enter yesterday load at this time : 15\n",
            "predicted load for this hour is :  2284.4088980413135\n"
          ],
          "name": "stdout"
        }
      ]
    }
  ]
}