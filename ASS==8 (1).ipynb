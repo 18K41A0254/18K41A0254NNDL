{
  "nbformat": 4,
  "nbformat_minor": 0,
  "metadata": {
    "colab": {
      "name": "ASS==8",
      "provenance": []
    },
    "kernelspec": {
      "name": "python3",
      "display_name": "Python 3"
    },
    "language_info": {
      "name": "python"
    }
  },
  "cells": [
    {
      "cell_type": "code",
      "metadata": {
        "id": "SKoo_R2KKyiV"
      },
      "source": [
        "import math\n",
        "import random\n",
        "import matplotlib.pyplot as plt\n",
        "import pandas as pd\n",
        "import numpy as np\n",
        "import seaborn as sns\n",
        "from scipy import stats\n",
        "from sklearn.preprocessing import minmax_scale\n",
        "from sklearn.model_selection import train_test_split\n",
        "from random import shuffle\n"
      ],
      "execution_count": 1,
      "outputs": []
    },
    {
      "cell_type": "code",
      "metadata": {
        "id": "K7ho-FbdLNw4"
      },
      "source": [
        "def error(d,m,c):\n",
        "  sum = 0\n",
        "  for i in range(len(d)):\n",
        "    sum += math.pow(d[i][1]-m*d[i][0]-c,2)\n",
        "  return (1/2)*(1/len(d))*sum\n"
      ],
      "execution_count": 2,
      "outputs": []
    },
    {
      "cell_type": "code",
      "metadata": {
        "id": "MhEZIjutLP5K"
      },
      "source": [
        "def gradm(d,m,c):\n",
        "  sum = 0\n",
        "  for i in range(len(d)):\n",
        "    sum = sum + (d[i][1]-m*d[i][0]-c)*d[i][0]\n",
        "  return -1*sum/len(d)\n"
      ],
      "execution_count": 3,
      "outputs": []
    },
    {
      "cell_type": "code",
      "metadata": {
        "id": "QjZHjBWHLU5Z"
      },
      "source": [
        "def gradc(d,m,c):\n",
        "  sum = 0\n",
        "  for i in range(len(d)):\n",
        "    sum = sum + (d[i][1]-m*d[i][0]-c)\n",
        "  return -1*sum/len(d)\n"
      ],
      "execution_count": 5,
      "outputs": []
    },
    {
      "cell_type": "code",
      "metadata": {
        "colab": {
          "base_uri": "https://localhost:8080/",
          "height": 215
        },
        "id": "NXe8d7y7Laoe",
        "outputId": "63899a3b-c204-4c01-8944-2d60f2f6e9d3"
      },
      "source": [
        "data = pd.read_csv(\"/kc_house_data.csv\")\n",
        "data.head()\n"
      ],
      "execution_count": 6,
      "outputs": [
        {
          "output_type": "execute_result",
          "data": {
            "text/html": [
              "<div>\n",
              "<style scoped>\n",
              "    .dataframe tbody tr th:only-of-type {\n",
              "        vertical-align: middle;\n",
              "    }\n",
              "\n",
              "    .dataframe tbody tr th {\n",
              "        vertical-align: top;\n",
              "    }\n",
              "\n",
              "    .dataframe thead th {\n",
              "        text-align: right;\n",
              "    }\n",
              "</style>\n",
              "<table border=\"1\" class=\"dataframe\">\n",
              "  <thead>\n",
              "    <tr style=\"text-align: right;\">\n",
              "      <th></th>\n",
              "      <th>id</th>\n",
              "      <th>date</th>\n",
              "      <th>price</th>\n",
              "      <th>bedrooms</th>\n",
              "      <th>bathrooms</th>\n",
              "      <th>sqft_living</th>\n",
              "      <th>sqft_lot</th>\n",
              "      <th>floors</th>\n",
              "      <th>waterfront</th>\n",
              "      <th>view</th>\n",
              "      <th>condition</th>\n",
              "      <th>grade</th>\n",
              "      <th>sqft_above</th>\n",
              "      <th>sqft_basement</th>\n",
              "      <th>yr_built</th>\n",
              "      <th>yr_renovated</th>\n",
              "      <th>zipcode</th>\n",
              "      <th>lat</th>\n",
              "      <th>long</th>\n",
              "      <th>sqft_living15</th>\n",
              "      <th>sqft_lot15</th>\n",
              "    </tr>\n",
              "  </thead>\n",
              "  <tbody>\n",
              "    <tr>\n",
              "      <th>0</th>\n",
              "      <td>7129300520</td>\n",
              "      <td>20141013T000000</td>\n",
              "      <td>221900.0</td>\n",
              "      <td>3</td>\n",
              "      <td>1.00</td>\n",
              "      <td>1180</td>\n",
              "      <td>5650</td>\n",
              "      <td>1.0</td>\n",
              "      <td>0</td>\n",
              "      <td>0</td>\n",
              "      <td>3</td>\n",
              "      <td>7</td>\n",
              "      <td>1180</td>\n",
              "      <td>0</td>\n",
              "      <td>1955</td>\n",
              "      <td>0</td>\n",
              "      <td>98178</td>\n",
              "      <td>47.5112</td>\n",
              "      <td>-122.257</td>\n",
              "      <td>1340</td>\n",
              "      <td>5650</td>\n",
              "    </tr>\n",
              "    <tr>\n",
              "      <th>1</th>\n",
              "      <td>6414100192</td>\n",
              "      <td>20141209T000000</td>\n",
              "      <td>538000.0</td>\n",
              "      <td>3</td>\n",
              "      <td>2.25</td>\n",
              "      <td>2570</td>\n",
              "      <td>7242</td>\n",
              "      <td>2.0</td>\n",
              "      <td>0</td>\n",
              "      <td>0</td>\n",
              "      <td>3</td>\n",
              "      <td>7</td>\n",
              "      <td>2170</td>\n",
              "      <td>400</td>\n",
              "      <td>1951</td>\n",
              "      <td>1991</td>\n",
              "      <td>98125</td>\n",
              "      <td>47.7210</td>\n",
              "      <td>-122.319</td>\n",
              "      <td>1690</td>\n",
              "      <td>7639</td>\n",
              "    </tr>\n",
              "    <tr>\n",
              "      <th>2</th>\n",
              "      <td>5631500400</td>\n",
              "      <td>20150225T000000</td>\n",
              "      <td>180000.0</td>\n",
              "      <td>2</td>\n",
              "      <td>1.00</td>\n",
              "      <td>770</td>\n",
              "      <td>10000</td>\n",
              "      <td>1.0</td>\n",
              "      <td>0</td>\n",
              "      <td>0</td>\n",
              "      <td>3</td>\n",
              "      <td>6</td>\n",
              "      <td>770</td>\n",
              "      <td>0</td>\n",
              "      <td>1933</td>\n",
              "      <td>0</td>\n",
              "      <td>98028</td>\n",
              "      <td>47.7379</td>\n",
              "      <td>-122.233</td>\n",
              "      <td>2720</td>\n",
              "      <td>8062</td>\n",
              "    </tr>\n",
              "    <tr>\n",
              "      <th>3</th>\n",
              "      <td>2487200875</td>\n",
              "      <td>20141209T000000</td>\n",
              "      <td>604000.0</td>\n",
              "      <td>4</td>\n",
              "      <td>3.00</td>\n",
              "      <td>1960</td>\n",
              "      <td>5000</td>\n",
              "      <td>1.0</td>\n",
              "      <td>0</td>\n",
              "      <td>0</td>\n",
              "      <td>5</td>\n",
              "      <td>7</td>\n",
              "      <td>1050</td>\n",
              "      <td>910</td>\n",
              "      <td>1965</td>\n",
              "      <td>0</td>\n",
              "      <td>98136</td>\n",
              "      <td>47.5208</td>\n",
              "      <td>-122.393</td>\n",
              "      <td>1360</td>\n",
              "      <td>5000</td>\n",
              "    </tr>\n",
              "    <tr>\n",
              "      <th>4</th>\n",
              "      <td>1954400510</td>\n",
              "      <td>20150218T000000</td>\n",
              "      <td>510000.0</td>\n",
              "      <td>3</td>\n",
              "      <td>2.00</td>\n",
              "      <td>1680</td>\n",
              "      <td>8080</td>\n",
              "      <td>1.0</td>\n",
              "      <td>0</td>\n",
              "      <td>0</td>\n",
              "      <td>3</td>\n",
              "      <td>8</td>\n",
              "      <td>1680</td>\n",
              "      <td>0</td>\n",
              "      <td>1987</td>\n",
              "      <td>0</td>\n",
              "      <td>98074</td>\n",
              "      <td>47.6168</td>\n",
              "      <td>-122.045</td>\n",
              "      <td>1800</td>\n",
              "      <td>7503</td>\n",
              "    </tr>\n",
              "  </tbody>\n",
              "</table>\n",
              "</div>"
            ],
            "text/plain": [
              "           id             date     price  ...     long  sqft_living15  sqft_lot15\n",
              "0  7129300520  20141013T000000  221900.0  ... -122.257           1340        5650\n",
              "1  6414100192  20141209T000000  538000.0  ... -122.319           1690        7639\n",
              "2  5631500400  20150225T000000  180000.0  ... -122.233           2720        8062\n",
              "3  2487200875  20141209T000000  604000.0  ... -122.393           1360        5000\n",
              "4  1954400510  20150218T000000  510000.0  ... -122.045           1800        7503\n",
              "\n",
              "[5 rows x 21 columns]"
            ]
          },
          "metadata": {
            "tags": []
          },
          "execution_count": 6
        }
      ]
    },
    {
      "cell_type": "code",
      "metadata": {
        "colab": {
          "base_uri": "https://localhost:8080/",
          "height": 304
        },
        "id": "vaSL6pRlMR_h",
        "outputId": "3c9b3891-8824-40ea-b81c-f62b6a3ac235"
      },
      "source": [
        "data.describe()\n"
      ],
      "execution_count": 7,
      "outputs": [
        {
          "output_type": "execute_result",
          "data": {
            "text/html": [
              "<div>\n",
              "<style scoped>\n",
              "    .dataframe tbody tr th:only-of-type {\n",
              "        vertical-align: middle;\n",
              "    }\n",
              "\n",
              "    .dataframe tbody tr th {\n",
              "        vertical-align: top;\n",
              "    }\n",
              "\n",
              "    .dataframe thead th {\n",
              "        text-align: right;\n",
              "    }\n",
              "</style>\n",
              "<table border=\"1\" class=\"dataframe\">\n",
              "  <thead>\n",
              "    <tr style=\"text-align: right;\">\n",
              "      <th></th>\n",
              "      <th>id</th>\n",
              "      <th>price</th>\n",
              "      <th>bedrooms</th>\n",
              "      <th>bathrooms</th>\n",
              "      <th>sqft_living</th>\n",
              "      <th>sqft_lot</th>\n",
              "      <th>floors</th>\n",
              "      <th>waterfront</th>\n",
              "      <th>view</th>\n",
              "      <th>condition</th>\n",
              "      <th>grade</th>\n",
              "      <th>sqft_above</th>\n",
              "      <th>sqft_basement</th>\n",
              "      <th>yr_built</th>\n",
              "      <th>yr_renovated</th>\n",
              "      <th>zipcode</th>\n",
              "      <th>lat</th>\n",
              "      <th>long</th>\n",
              "      <th>sqft_living15</th>\n",
              "      <th>sqft_lot15</th>\n",
              "    </tr>\n",
              "  </thead>\n",
              "  <tbody>\n",
              "    <tr>\n",
              "      <th>count</th>\n",
              "      <td>2.161300e+04</td>\n",
              "      <td>2.161300e+04</td>\n",
              "      <td>21613.000000</td>\n",
              "      <td>21613.000000</td>\n",
              "      <td>21613.000000</td>\n",
              "      <td>2.161300e+04</td>\n",
              "      <td>21613.000000</td>\n",
              "      <td>21613.000000</td>\n",
              "      <td>21613.000000</td>\n",
              "      <td>21613.000000</td>\n",
              "      <td>21613.000000</td>\n",
              "      <td>21613.000000</td>\n",
              "      <td>21613.000000</td>\n",
              "      <td>21613.000000</td>\n",
              "      <td>21613.000000</td>\n",
              "      <td>21613.000000</td>\n",
              "      <td>21613.000000</td>\n",
              "      <td>21613.000000</td>\n",
              "      <td>21613.000000</td>\n",
              "      <td>21613.000000</td>\n",
              "    </tr>\n",
              "    <tr>\n",
              "      <th>mean</th>\n",
              "      <td>4.580302e+09</td>\n",
              "      <td>5.400881e+05</td>\n",
              "      <td>3.370842</td>\n",
              "      <td>2.114757</td>\n",
              "      <td>2079.899736</td>\n",
              "      <td>1.510697e+04</td>\n",
              "      <td>1.494309</td>\n",
              "      <td>0.007542</td>\n",
              "      <td>0.234303</td>\n",
              "      <td>3.409430</td>\n",
              "      <td>7.656873</td>\n",
              "      <td>1788.390691</td>\n",
              "      <td>291.509045</td>\n",
              "      <td>1971.005136</td>\n",
              "      <td>84.402258</td>\n",
              "      <td>98077.939805</td>\n",
              "      <td>47.560053</td>\n",
              "      <td>-122.213896</td>\n",
              "      <td>1986.552492</td>\n",
              "      <td>12768.455652</td>\n",
              "    </tr>\n",
              "    <tr>\n",
              "      <th>std</th>\n",
              "      <td>2.876566e+09</td>\n",
              "      <td>3.671272e+05</td>\n",
              "      <td>0.930062</td>\n",
              "      <td>0.770163</td>\n",
              "      <td>918.440897</td>\n",
              "      <td>4.142051e+04</td>\n",
              "      <td>0.539989</td>\n",
              "      <td>0.086517</td>\n",
              "      <td>0.766318</td>\n",
              "      <td>0.650743</td>\n",
              "      <td>1.175459</td>\n",
              "      <td>828.090978</td>\n",
              "      <td>442.575043</td>\n",
              "      <td>29.373411</td>\n",
              "      <td>401.679240</td>\n",
              "      <td>53.505026</td>\n",
              "      <td>0.138564</td>\n",
              "      <td>0.140828</td>\n",
              "      <td>685.391304</td>\n",
              "      <td>27304.179631</td>\n",
              "    </tr>\n",
              "    <tr>\n",
              "      <th>min</th>\n",
              "      <td>1.000102e+06</td>\n",
              "      <td>7.500000e+04</td>\n",
              "      <td>0.000000</td>\n",
              "      <td>0.000000</td>\n",
              "      <td>290.000000</td>\n",
              "      <td>5.200000e+02</td>\n",
              "      <td>1.000000</td>\n",
              "      <td>0.000000</td>\n",
              "      <td>0.000000</td>\n",
              "      <td>1.000000</td>\n",
              "      <td>1.000000</td>\n",
              "      <td>290.000000</td>\n",
              "      <td>0.000000</td>\n",
              "      <td>1900.000000</td>\n",
              "      <td>0.000000</td>\n",
              "      <td>98001.000000</td>\n",
              "      <td>47.155900</td>\n",
              "      <td>-122.519000</td>\n",
              "      <td>399.000000</td>\n",
              "      <td>651.000000</td>\n",
              "    </tr>\n",
              "    <tr>\n",
              "      <th>25%</th>\n",
              "      <td>2.123049e+09</td>\n",
              "      <td>3.219500e+05</td>\n",
              "      <td>3.000000</td>\n",
              "      <td>1.750000</td>\n",
              "      <td>1427.000000</td>\n",
              "      <td>5.040000e+03</td>\n",
              "      <td>1.000000</td>\n",
              "      <td>0.000000</td>\n",
              "      <td>0.000000</td>\n",
              "      <td>3.000000</td>\n",
              "      <td>7.000000</td>\n",
              "      <td>1190.000000</td>\n",
              "      <td>0.000000</td>\n",
              "      <td>1951.000000</td>\n",
              "      <td>0.000000</td>\n",
              "      <td>98033.000000</td>\n",
              "      <td>47.471000</td>\n",
              "      <td>-122.328000</td>\n",
              "      <td>1490.000000</td>\n",
              "      <td>5100.000000</td>\n",
              "    </tr>\n",
              "    <tr>\n",
              "      <th>50%</th>\n",
              "      <td>3.904930e+09</td>\n",
              "      <td>4.500000e+05</td>\n",
              "      <td>3.000000</td>\n",
              "      <td>2.250000</td>\n",
              "      <td>1910.000000</td>\n",
              "      <td>7.618000e+03</td>\n",
              "      <td>1.500000</td>\n",
              "      <td>0.000000</td>\n",
              "      <td>0.000000</td>\n",
              "      <td>3.000000</td>\n",
              "      <td>7.000000</td>\n",
              "      <td>1560.000000</td>\n",
              "      <td>0.000000</td>\n",
              "      <td>1975.000000</td>\n",
              "      <td>0.000000</td>\n",
              "      <td>98065.000000</td>\n",
              "      <td>47.571800</td>\n",
              "      <td>-122.230000</td>\n",
              "      <td>1840.000000</td>\n",
              "      <td>7620.000000</td>\n",
              "    </tr>\n",
              "    <tr>\n",
              "      <th>75%</th>\n",
              "      <td>7.308900e+09</td>\n",
              "      <td>6.450000e+05</td>\n",
              "      <td>4.000000</td>\n",
              "      <td>2.500000</td>\n",
              "      <td>2550.000000</td>\n",
              "      <td>1.068800e+04</td>\n",
              "      <td>2.000000</td>\n",
              "      <td>0.000000</td>\n",
              "      <td>0.000000</td>\n",
              "      <td>4.000000</td>\n",
              "      <td>8.000000</td>\n",
              "      <td>2210.000000</td>\n",
              "      <td>560.000000</td>\n",
              "      <td>1997.000000</td>\n",
              "      <td>0.000000</td>\n",
              "      <td>98118.000000</td>\n",
              "      <td>47.678000</td>\n",
              "      <td>-122.125000</td>\n",
              "      <td>2360.000000</td>\n",
              "      <td>10083.000000</td>\n",
              "    </tr>\n",
              "    <tr>\n",
              "      <th>max</th>\n",
              "      <td>9.900000e+09</td>\n",
              "      <td>7.700000e+06</td>\n",
              "      <td>33.000000</td>\n",
              "      <td>8.000000</td>\n",
              "      <td>13540.000000</td>\n",
              "      <td>1.651359e+06</td>\n",
              "      <td>3.500000</td>\n",
              "      <td>1.000000</td>\n",
              "      <td>4.000000</td>\n",
              "      <td>5.000000</td>\n",
              "      <td>13.000000</td>\n",
              "      <td>9410.000000</td>\n",
              "      <td>4820.000000</td>\n",
              "      <td>2015.000000</td>\n",
              "      <td>2015.000000</td>\n",
              "      <td>98199.000000</td>\n",
              "      <td>47.777600</td>\n",
              "      <td>-121.315000</td>\n",
              "      <td>6210.000000</td>\n",
              "      <td>871200.000000</td>\n",
              "    </tr>\n",
              "  </tbody>\n",
              "</table>\n",
              "</div>"
            ],
            "text/plain": [
              "                 id         price  ...  sqft_living15     sqft_lot15\n",
              "count  2.161300e+04  2.161300e+04  ...   21613.000000   21613.000000\n",
              "mean   4.580302e+09  5.400881e+05  ...    1986.552492   12768.455652\n",
              "std    2.876566e+09  3.671272e+05  ...     685.391304   27304.179631\n",
              "min    1.000102e+06  7.500000e+04  ...     399.000000     651.000000\n",
              "25%    2.123049e+09  3.219500e+05  ...    1490.000000    5100.000000\n",
              "50%    3.904930e+09  4.500000e+05  ...    1840.000000    7620.000000\n",
              "75%    7.308900e+09  6.450000e+05  ...    2360.000000   10083.000000\n",
              "max    9.900000e+09  7.700000e+06  ...    6210.000000  871200.000000\n",
              "\n",
              "[8 rows x 20 columns]"
            ]
          },
          "metadata": {
            "tags": []
          },
          "execution_count": 7
        }
      ]
    },
    {
      "cell_type": "code",
      "metadata": {
        "colab": {
          "base_uri": "https://localhost:8080/"
        },
        "id": "a_yyxuNJMZp7",
        "outputId": "eaf60d1f-ca7c-49e4-863e-25f9b70b2729"
      },
      "source": [
        "data.corr()['price']"
      ],
      "execution_count": 8,
      "outputs": [
        {
          "output_type": "execute_result",
          "data": {
            "text/plain": [
              "id              -0.016762\n",
              "price            1.000000\n",
              "bedrooms         0.308350\n",
              "bathrooms        0.525138\n",
              "sqft_living      0.702035\n",
              "sqft_lot         0.089661\n",
              "floors           0.256794\n",
              "waterfront       0.266369\n",
              "view             0.397293\n",
              "condition        0.036362\n",
              "grade            0.667434\n",
              "sqft_above       0.605567\n",
              "sqft_basement    0.323816\n",
              "yr_built         0.054012\n",
              "yr_renovated     0.126434\n",
              "zipcode         -0.053203\n",
              "lat              0.307003\n",
              "long             0.021626\n",
              "sqft_living15    0.585379\n",
              "sqft_lot15       0.082447\n",
              "Name: price, dtype: float64"
            ]
          },
          "metadata": {
            "tags": []
          },
          "execution_count": 8
        }
      ]
    },
    {
      "cell_type": "code",
      "metadata": {
        "colab": {
          "base_uri": "https://localhost:8080/"
        },
        "id": "aaMZ5rGPMgVY",
        "outputId": "6c6a6a33-97d9-49c4-c261-ee8ea7941d2d"
      },
      "source": [
        "data.info()\n"
      ],
      "execution_count": 9,
      "outputs": [
        {
          "output_type": "stream",
          "text": [
            "<class 'pandas.core.frame.DataFrame'>\n",
            "RangeIndex: 21613 entries, 0 to 21612\n",
            "Data columns (total 21 columns):\n",
            " #   Column         Non-Null Count  Dtype  \n",
            "---  ------         --------------  -----  \n",
            " 0   id             21613 non-null  int64  \n",
            " 1   date           21613 non-null  object \n",
            " 2   price          21613 non-null  float64\n",
            " 3   bedrooms       21613 non-null  int64  \n",
            " 4   bathrooms      21613 non-null  float64\n",
            " 5   sqft_living    21613 non-null  int64  \n",
            " 6   sqft_lot       21613 non-null  int64  \n",
            " 7   floors         21613 non-null  float64\n",
            " 8   waterfront     21613 non-null  int64  \n",
            " 9   view           21613 non-null  int64  \n",
            " 10  condition      21613 non-null  int64  \n",
            " 11  grade          21613 non-null  int64  \n",
            " 12  sqft_above     21613 non-null  int64  \n",
            " 13  sqft_basement  21613 non-null  int64  \n",
            " 14  yr_built       21613 non-null  int64  \n",
            " 15  yr_renovated   21613 non-null  int64  \n",
            " 16  zipcode        21613 non-null  int64  \n",
            " 17  lat            21613 non-null  float64\n",
            " 18  long           21613 non-null  float64\n",
            " 19  sqft_living15  21613 non-null  int64  \n",
            " 20  sqft_lot15     21613 non-null  int64  \n",
            "dtypes: float64(5), int64(15), object(1)\n",
            "memory usage: 3.5+ MB\n"
          ],
          "name": "stdout"
        }
      ]
    },
    {
      "cell_type": "code",
      "metadata": {
        "colab": {
          "base_uri": "https://localhost:8080/",
          "height": 296
        },
        "id": "icWsRcyqMk3q",
        "outputId": "4d3d3381-a2eb-481b-e097-18352753f87a"
      },
      "source": [
        "y = data['price']\n",
        "x = data['sqft_living']\n",
        "\n",
        "plt.scatter(data['price'],data['sqft_living'])"
      ],
      "execution_count": 10,
      "outputs": [
        {
          "output_type": "execute_result",
          "data": {
            "text/plain": [
              "<matplotlib.collections.PathCollection at 0x7f90f70ad990>"
            ]
          },
          "metadata": {
            "tags": []
          },
          "execution_count": 10
        },
        {
          "output_type": "display_data",
          "data": {
            "image/png": "[encoded data removed]",
            "text/plain": [
              "<Figure size 432x288 with 1 Axes>"
            ]
          },
          "metadata": {
            "tags": [],
            "needs_background": "light"
          }
        }
      ]
    },
    {
      "cell_type": "code",
      "metadata": {
        "colab": {
          "base_uri": "https://localhost:8080/",
          "height": 350
        },
        "id": "bluAU0rHM_R0",
        "outputId": "e9517a5f-a8ae-4721-d192-47b84f7e5b4e"
      },
      "source": [
        "sns.boxplot(x)"
      ],
      "execution_count": 11,
      "outputs": [
        {
          "output_type": "stream",
          "text": [
            "/usr/local/lib/python3.7/dist-packages/seaborn/_decorators.py:43: FutureWarning: Pass the following variable as a keyword arg: x. From version 0.12, the only valid positional argument will be `data`, and passing other arguments without an explicit keyword will result in an error or misinterpretation.\n",
            "  FutureWarning\n"
          ],
          "name": "stderr"
        },
        {
          "output_type": "execute_result",
          "data": {
            "text/plain": [
              "<matplotlib.axes._subplots.AxesSubplot at 0x7f90f6e1fa10>"
            ]
          },
          "metadata": {
            "tags": []
          },
          "execution_count": 11
        },
        {
          "output_type": "display_data",
          "data": {
            "image/png": "[encoded data removed]",
            "text/plain": [
              "<Figure size 432x288 with 1 Axes>"
            ]
          },
          "metadata": {
            "tags": [],
            "needs_background": "light"
          }
        }
      ]
    },
    {
      "cell_type": "code",
      "metadata": {
        "id": "f5dIiomNNOVI"
      },
      "source": [
        ""
      ],
      "execution_count": null,
      "outputs": []
    },
    {
      "cell_type": "code",
      "metadata": {
        "colab": {
          "base_uri": "https://localhost:8080/",
          "height": 350
        },
        "id": "1FcK6jRrNDY4",
        "outputId": "35826245-f684-4476-d9ff-e70d78e972f2"
      },
      "source": [
        "sns.boxplot(y)"
      ],
      "execution_count": 12,
      "outputs": [
        {
          "output_type": "stream",
          "text": [
            "/usr/local/lib/python3.7/dist-packages/seaborn/_decorators.py:43: FutureWarning: Pass the following variable as a keyword arg: x. From version 0.12, the only valid positional argument will be `data`, and passing other arguments without an explicit keyword will result in an error or misinterpretation.\n",
            "  FutureWarning\n"
          ],
          "name": "stderr"
        },
        {
          "output_type": "execute_result",
          "data": {
            "text/plain": [
              "<matplotlib.axes._subplots.AxesSubplot at 0x7f90f6894c90>"
            ]
          },
          "metadata": {
            "tags": []
          },
          "execution_count": 12
        },
        {
          "output_type": "display_data",
          "data": {
            "image/png": "[encoded data removed]",
            "text/plain": [
              "<Figure size 432x288 with 1 Axes>"
            ]
          },
          "metadata": {
            "tags": [],
            "needs_background": "light"
          }
        }
      ]
    },
    {
      "cell_type": "code",
      "metadata": {
        "id": "xiGgYMZONRGX"
      },
      "source": [
        "threshold = 3\n",
        "x = list(x)\n",
        "y = list(y)\n",
        "x_new = []\n",
        "y_new = []\n",
        "\n",
        "z = np.abs(stats.zscore(x))\n",
        "outliers = np.where(z > threshold)\n",
        "\n",
        "for i in range(len(x)):\n",
        "  if i not in outliers[0]:\n",
        "    x_new.append(x[i])\n",
        "    y_new.append(y[i])\n"
      ],
      "execution_count": 13,
      "outputs": []
    },
    {
      "cell_type": "code",
      "metadata": {
        "id": "d7fbrCFONYln"
      },
      "source": [
        "x = x_new\n",
        "y = y_new\n",
        "\n",
        "x_new = []\n",
        "y_new = []\n",
        "\n",
        "z = np.abs(stats.zscore(y))\n",
        "outliers = np.where(z > threshold)\n",
        "for i in range(len(x)):\n",
        "  if i not in outliers[0]:\n",
        "    x_new.append(x[i])\n",
        "    y_new.append(y[i])\n"
      ],
      "execution_count": 14,
      "outputs": []
    },
    {
      "cell_type": "code",
      "metadata": {
        "colab": {
          "base_uri": "https://localhost:8080/"
        },
        "id": "8sGNxL2JNdmV",
        "outputId": "ba14ea24-d8d0-4243-cbd5-f883578d65de"
      },
      "source": [
        "print(len(x_new))\n",
        "print(len(y_new))"
      ],
      "execution_count": 15,
      "outputs": [
        {
          "output_type": "stream",
          "text": [
            "20957\n",
            "20957\n"
          ],
          "name": "stdout"
        }
      ]
    },
    {
      "cell_type": "code",
      "metadata": {
        "id": "9Cfuw52MNkei"
      },
      "source": [
        "x = x_new\n",
        "y = y_new\n"
      ],
      "execution_count": 16,
      "outputs": []
    },
    {
      "cell_type": "code",
      "metadata": {
        "colab": {
          "base_uri": "https://localhost:8080/",
          "height": 293
        },
        "id": "tVqrWUezNoS0",
        "outputId": "6365f2d4-9685-48fd-fd16-f0e26f478361"
      },
      "source": [
        "plt.scatter(x,y)"
      ],
      "execution_count": 17,
      "outputs": [
        {
          "output_type": "execute_result",
          "data": {
            "text/plain": [
              "<matplotlib.collections.PathCollection at 0x7f90f6667490>"
            ]
          },
          "metadata": {
            "tags": []
          },
          "execution_count": 17
        },
        {
          "output_type": "display_data",
          "data": {
            "image/png": "[encoded data removed]",
            "text/plain": [
              "<Figure size 432x288 with 1 Axes>"
            ]
          },
          "metadata": {
            "tags": [],
            "needs_background": "light"
          }
        }
      ]
    },
    {
      "cell_type": "code",
      "metadata": {
        "id": "Trkb1n8_Nsah"
      },
      "source": [
        "x = minmax_scale(x)\n",
        "y = minmax_scale(y)\n"
      ],
      "execution_count": 18,
      "outputs": []
    },
    {
      "cell_type": "code",
      "metadata": {
        "id": "KtvCZoMRNy3R"
      },
      "source": [
        "cleaned_data = [(x[i],y[i]) for i in range(len(x))]"
      ],
      "execution_count": 19,
      "outputs": []
    },
    {
      "cell_type": "code",
      "metadata": {
        "id": "KVd7S8tEN3f3"
      },
      "source": [
        "cleaned_data_train, cleaned_data_test = train_test_split(cleaned_data,test_size=0.1)\n"
      ],
      "execution_count": 20,
      "outputs": []
    },
    {
      "cell_type": "code",
      "metadata": {
        "colab": {
          "base_uri": "https://localhost:8080/"
        },
        "id": "JUQ2tbHuN88D",
        "outputId": "0fe8fadf-30aa-4110-9f4e-630c975441d5"
      },
      "source": [
        "print(len(cleaned_data_train))\n",
        "print(len(cleaned_data_test))"
      ],
      "execution_count": 21,
      "outputs": [
        {
          "output_type": "stream",
          "text": [
            "18861\n",
            "2096\n"
          ],
          "name": "stdout"
        }
      ]
    },
    {
      "cell_type": "code",
      "metadata": {
        "id": "esi-3DShOGll"
      },
      "source": [
        "epochs = 20\n",
        "learning_rate = 0.01\n",
        "batch_size = 500\n",
        "number_of_samples = len(cleaned_data_train)\n",
        "number_of_batches = number_of_samples//batch_size\n",
        "m = 1\n",
        "c = 1\n"
      ],
      "execution_count": 22,
      "outputs": []
    },
    {
      "cell_type": "code",
      "metadata": {
        "colab": {
          "base_uri": "https://localhost:8080/"
        },
        "id": "Y1bH5XTbOZk6",
        "outputId": "40b47890-10bc-43e5-a74b-c9b66e24ce4f"
      },
      "source": [
        "error_list = []\n",
        "for i in range(epochs):\n",
        "  for j in range(number_of_batches+1):\n",
        "    if j == number_of_batches:\n",
        "      d = cleaned_data_train[j*batch_size:]\n",
        "    else:\n",
        "      d = cleaned_data_train[j*batch_size:(j+1)*batch_size]\n",
        "    deltam = -1*learning_rate*gradm(d,m,c)\n",
        "    deltac = -1*learning_rate*gradc(d,m,c)\n",
        "    m = m + deltam\n",
        "    c = c + deltac\n",
        "    err = error(d,m,c)\n",
        "    print(\"epoch : {}, batch : {} >> error : {}\".format(i,j,err))\n",
        "    error_list.append(err)\n",
        "  random.shuffle(cleaned_data_train)\n"
      ],
      "execution_count": 23,
      "outputs": [
        {
          "output_type": "stream",
          "text": [
            "epoch : 0, batch : 0 >> error : 0.5711954157645142\n",
            "epoch : 0, batch : 1 >> error : 0.5607770005977293\n",
            "epoch : 0, batch : 2 >> error : 0.5482897423717055\n",
            "epoch : 0, batch : 3 >> error : 0.5428218797880952\n",
            "epoch : 0, batch : 4 >> error : 0.5246809226196034\n",
            "epoch : 0, batch : 5 >> error : 0.5106890060616097\n",
            "epoch : 0, batch : 6 >> error : 0.5080211027715356\n",
            "epoch : 0, batch : 7 >> error : 0.48392016626690104\n",
            "epoch : 0, batch : 8 >> error : 0.4706908552488674\n",
            "epoch : 0, batch : 9 >> error : 0.4701991556422616\n",
            "epoch : 0, batch : 10 >> error : 0.45277592548790196\n",
            "epoch : 0, batch : 11 >> error : 0.4453733636363086\n",
            "epoch : 0, batch : 12 >> error : 0.44387041317053927\n",
            "epoch : 0, batch : 13 >> error : 0.43062616531482684\n",
            "epoch : 0, batch : 14 >> error : 0.4181677801132144\n",
            "epoch : 0, batch : 15 >> error : 0.41398363650271436\n",
            "epoch : 0, batch : 16 >> error : 0.39680337770001767\n",
            "epoch : 0, batch : 17 >> error : 0.3864058511520228\n",
            "epoch : 0, batch : 18 >> error : 0.38218732900934754\n",
            "epoch : 0, batch : 19 >> error : 0.3778727775848176\n",
            "epoch : 0, batch : 20 >> error : 0.36867641345457425\n",
            "epoch : 0, batch : 21 >> error : 0.35900975625050036\n",
            "epoch : 0, batch : 22 >> error : 0.34589145669613947\n",
            "epoch : 0, batch : 23 >> error : 0.3375694347075224\n",
            "epoch : 0, batch : 24 >> error : 0.3230293014537608\n",
            "epoch : 0, batch : 25 >> error : 0.3261647569327858\n",
            "epoch : 0, batch : 26 >> error : 0.3192721521126036\n",
            "epoch : 0, batch : 27 >> error : 0.31283769294800917\n",
            "epoch : 0, batch : 28 >> error : 0.30042894556293714\n",
            "epoch : 0, batch : 29 >> error : 0.2973944825718807\n",
            "epoch : 0, batch : 30 >> error : 0.2933035206612832\n",
            "epoch : 0, batch : 31 >> error : 0.28701571250368\n",
            "epoch : 0, batch : 32 >> error : 0.27554790692834535\n",
            "epoch : 0, batch : 33 >> error : 0.279754493371818\n",
            "epoch : 0, batch : 34 >> error : 0.266100766129265\n",
            "epoch : 0, batch : 35 >> error : 0.26211875901434406\n",
            "epoch : 0, batch : 36 >> error : 0.2569190711277516\n",
            "epoch : 0, batch : 37 >> error : 0.24972720414300592\n",
            "epoch : 1, batch : 0 >> error : 0.24873452324236972\n",
            "epoch : 1, batch : 1 >> error : 0.24538743398475157\n",
            "epoch : 1, batch : 2 >> error : 0.23604686472456235\n",
            "epoch : 1, batch : 3 >> error : 0.2320653497458245\n",
            "epoch : 1, batch : 4 >> error : 0.22661118961156843\n",
            "epoch : 1, batch : 5 >> error : 0.21392617695755262\n",
            "epoch : 1, batch : 6 >> error : 0.21213380789486266\n",
            "epoch : 1, batch : 7 >> error : 0.20699136032558219\n",
            "epoch : 1, batch : 8 >> error : 0.20522357163139565\n",
            "epoch : 1, batch : 9 >> error : 0.2037241266514914\n",
            "epoch : 1, batch : 10 >> error : 0.19442200846829608\n",
            "epoch : 1, batch : 11 >> error : 0.19091497385854886\n",
            "epoch : 1, batch : 12 >> error : 0.18877329786234356\n",
            "epoch : 1, batch : 13 >> error : 0.17963318639026923\n",
            "epoch : 1, batch : 14 >> error : 0.17345474783846582\n",
            "epoch : 1, batch : 15 >> error : 0.17582636656207942\n",
            "epoch : 1, batch : 16 >> error : 0.17163176731306126\n",
            "epoch : 1, batch : 17 >> error : 0.16629137541418168\n",
            "epoch : 1, batch : 18 >> error : 0.1644952763979587\n",
            "epoch : 1, batch : 19 >> error : 0.16134020792792025\n",
            "epoch : 1, batch : 20 >> error : 0.15534183682829997\n",
            "epoch : 1, batch : 21 >> error : 0.15442749526085095\n",
            "epoch : 1, batch : 22 >> error : 0.14883194084248397\n",
            "epoch : 1, batch : 23 >> error : 0.145625387854004\n",
            "epoch : 1, batch : 24 >> error : 0.14692440106699434\n",
            "epoch : 1, batch : 25 >> error : 0.14109645127293116\n",
            "epoch : 1, batch : 26 >> error : 0.13978916249543277\n",
            "epoch : 1, batch : 27 >> error : 0.13762088163822353\n",
            "epoch : 1, batch : 28 >> error : 0.12708593809951882\n",
            "epoch : 1, batch : 29 >> error : 0.1265635601017215\n",
            "epoch : 1, batch : 30 >> error : 0.12771648178603207\n",
            "epoch : 1, batch : 31 >> error : 0.125982478669632\n",
            "epoch : 1, batch : 32 >> error : 0.11763907911676615\n",
            "epoch : 1, batch : 33 >> error : 0.11924623747506043\n",
            "epoch : 1, batch : 34 >> error : 0.11378078303821558\n",
            "epoch : 1, batch : 35 >> error : 0.11351928667173555\n",
            "epoch : 1, batch : 36 >> error : 0.11242865685888186\n",
            "epoch : 1, batch : 37 >> error : 0.10620002208895028\n",
            "epoch : 2, batch : 0 >> error : 0.10794390292438664\n",
            "epoch : 2, batch : 1 >> error : 0.10300895754806948\n",
            "epoch : 2, batch : 2 >> error : 0.10034521389152075\n",
            "epoch : 2, batch : 3 >> error : 0.09587771419142728\n",
            "epoch : 2, batch : 4 >> error : 0.10018515452683398\n",
            "epoch : 2, batch : 5 >> error : 0.10102514004371285\n",
            "epoch : 2, batch : 6 >> error : 0.09196712262725093\n",
            "epoch : 2, batch : 7 >> error : 0.09576540829205932\n",
            "epoch : 2, batch : 8 >> error : 0.09268205398151153\n",
            "epoch : 2, batch : 9 >> error : 0.08933628534292536\n",
            "epoch : 2, batch : 10 >> error : 0.08567511363808186\n",
            "epoch : 2, batch : 11 >> error : 0.08896120885958475\n",
            "epoch : 2, batch : 12 >> error : 0.08365500336688259\n",
            "epoch : 2, batch : 13 >> error : 0.08169878719024433\n",
            "epoch : 2, batch : 14 >> error : 0.08025119617780997\n",
            "epoch : 2, batch : 15 >> error : 0.07627599052945276\n",
            "epoch : 2, batch : 16 >> error : 0.07610591849054103\n",
            "epoch : 2, batch : 17 >> error : 0.07373866002238873\n",
            "epoch : 2, batch : 18 >> error : 0.072380111365265\n",
            "epoch : 2, batch : 19 >> error : 0.07324434842787811\n",
            "epoch : 2, batch : 20 >> error : 0.0738311317183516\n",
            "epoch : 2, batch : 21 >> error : 0.06783273122284127\n",
            "epoch : 2, batch : 22 >> error : 0.06651528352499299\n",
            "epoch : 2, batch : 23 >> error : 0.07010572094908415\n",
            "epoch : 2, batch : 24 >> error : 0.0654609991891011\n",
            "epoch : 2, batch : 25 >> error : 0.06338187749022223\n",
            "epoch : 2, batch : 26 >> error : 0.0604659645105453\n",
            "epoch : 2, batch : 27 >> error : 0.06011296279860764\n",
            "epoch : 2, batch : 28 >> error : 0.06079978265396942\n",
            "epoch : 2, batch : 29 >> error : 0.05600357306171117\n",
            "epoch : 2, batch : 30 >> error : 0.05720355918450896\n",
            "epoch : 2, batch : 31 >> error : 0.053589407577320905\n",
            "epoch : 2, batch : 32 >> error : 0.05536208585846169\n",
            "epoch : 2, batch : 33 >> error : 0.05583180926203889\n",
            "epoch : 2, batch : 34 >> error : 0.05429713751850074\n",
            "epoch : 2, batch : 35 >> error : 0.05317337133607287\n",
            "epoch : 2, batch : 36 >> error : 0.05055567225321348\n",
            "epoch : 2, batch : 37 >> error : 0.04769698701002339\n",
            "epoch : 3, batch : 0 >> error : 0.048253680829226195\n",
            "epoch : 3, batch : 1 >> error : 0.05037738334480966\n",
            "epoch : 3, batch : 2 >> error : 0.04674129422685987\n",
            "epoch : 3, batch : 3 >> error : 0.04445623754765043\n",
            "epoch : 3, batch : 4 >> error : 0.04872924730143939\n",
            "epoch : 3, batch : 5 >> error : 0.045420601813126515\n",
            "epoch : 3, batch : 6 >> error : 0.04789504994072969\n",
            "epoch : 3, batch : 7 >> error : 0.04161376973879806\n",
            "epoch : 3, batch : 8 >> error : 0.04354379822053792\n",
            "epoch : 3, batch : 9 >> error : 0.04282341108094669\n",
            "epoch : 3, batch : 10 >> error : 0.04053453121321828\n",
            "epoch : 3, batch : 11 >> error : 0.040581131429911356\n",
            "epoch : 3, batch : 12 >> error : 0.03983302651577421\n",
            "epoch : 3, batch : 13 >> error : 0.03681781605698389\n",
            "epoch : 3, batch : 14 >> error : 0.03732350641310765\n",
            "epoch : 3, batch : 15 >> error : 0.0396474197421846\n",
            "epoch : 3, batch : 16 >> error : 0.03748395434811486\n",
            "epoch : 3, batch : 17 >> error : 0.036687477913266216\n",
            "epoch : 3, batch : 18 >> error : 0.035786970731826157\n",
            "epoch : 3, batch : 19 >> error : 0.03581561604646535\n",
            "epoch : 3, batch : 20 >> error : 0.03423395667903693\n",
            "epoch : 3, batch : 21 >> error : 0.03371027392810429\n",
            "epoch : 3, batch : 22 >> error : 0.034947252365853665\n",
            "epoch : 3, batch : 23 >> error : 0.031888824986512354\n",
            "epoch : 3, batch : 24 >> error : 0.0349096339828784\n",
            "epoch : 3, batch : 25 >> error : 0.032358495474640994\n",
            "epoch : 3, batch : 26 >> error : 0.03156992726746839\n",
            "epoch : 3, batch : 27 >> error : 0.03000991768047901\n",
            "epoch : 3, batch : 28 >> error : 0.029772803752885067\n",
            "epoch : 3, batch : 29 >> error : 0.029263762282278626\n",
            "epoch : 3, batch : 30 >> error : 0.029347094333823587\n",
            "epoch : 3, batch : 31 >> error : 0.029538544282661842\n",
            "epoch : 3, batch : 32 >> error : 0.027301692074620833\n",
            "epoch : 3, batch : 33 >> error : 0.027418687518867006\n",
            "epoch : 3, batch : 34 >> error : 0.0263572874698612\n",
            "epoch : 3, batch : 35 >> error : 0.026307138254242864\n",
            "epoch : 3, batch : 36 >> error : 0.02560334648467354\n",
            "epoch : 3, batch : 37 >> error : 0.024053819888040083\n",
            "epoch : 4, batch : 0 >> error : 0.023346112745003082\n",
            "epoch : 4, batch : 1 >> error : 0.026306431425742682\n",
            "epoch : 4, batch : 2 >> error : 0.023924886722830885\n",
            "epoch : 4, batch : 3 >> error : 0.025958090481443003\n",
            "epoch : 4, batch : 4 >> error : 0.02394933703706636\n",
            "epoch : 4, batch : 5 >> error : 0.025336674513838947\n",
            "epoch : 4, batch : 6 >> error : 0.023778612551847107\n",
            "epoch : 4, batch : 7 >> error : 0.022695507795972448\n",
            "epoch : 4, batch : 8 >> error : 0.02205534754160189\n",
            "epoch : 4, batch : 9 >> error : 0.024561187561598648\n",
            "epoch : 4, batch : 10 >> error : 0.022923179449791112\n",
            "epoch : 4, batch : 11 >> error : 0.021444510750821866\n",
            "epoch : 4, batch : 12 >> error : 0.021044852764381318\n",
            "epoch : 4, batch : 13 >> error : 0.021885470177741177\n",
            "epoch : 4, batch : 14 >> error : 0.021552076700474477\n",
            "epoch : 4, batch : 15 >> error : 0.02123901759879449\n",
            "epoch : 4, batch : 16 >> error : 0.019350487486637678\n",
            "epoch : 4, batch : 17 >> error : 0.020705411506313234\n",
            "epoch : 4, batch : 18 >> error : 0.02112943519627303\n",
            "epoch : 4, batch : 19 >> error : 0.020322643987852457\n",
            "epoch : 4, batch : 20 >> error : 0.018490936551762288\n",
            "epoch : 4, batch : 21 >> error : 0.019557665639592832\n",
            "epoch : 4, batch : 22 >> error : 0.019516229648956013\n",
            "epoch : 4, batch : 23 >> error : 0.017882653366094133\n",
            "epoch : 4, batch : 24 >> error : 0.018224085544067316\n",
            "epoch : 4, batch : 25 >> error : 0.016784858812662534\n",
            "epoch : 4, batch : 26 >> error : 0.01744974773869764\n",
            "epoch : 4, batch : 27 >> error : 0.017617549753146184\n",
            "epoch : 4, batch : 28 >> error : 0.01749817499372517\n",
            "epoch : 4, batch : 29 >> error : 0.01701303677698794\n",
            "epoch : 4, batch : 30 >> error : 0.017892586229734633\n",
            "epoch : 4, batch : 31 >> error : 0.016920889165726347\n",
            "epoch : 4, batch : 32 >> error : 0.016750808318522506\n",
            "epoch : 4, batch : 33 >> error : 0.017203720570355147\n",
            "epoch : 4, batch : 34 >> error : 0.017471045074327608\n",
            "epoch : 4, batch : 35 >> error : 0.016620629224409336\n",
            "epoch : 4, batch : 36 >> error : 0.01675179699340446\n",
            "epoch : 4, batch : 37 >> error : 0.0166821092006922\n",
            "epoch : 5, batch : 0 >> error : 0.01577946044028214\n",
            "epoch : 5, batch : 1 >> error : 0.014797761271468451\n",
            "epoch : 5, batch : 2 >> error : 0.01556910771601774\n",
            "epoch : 5, batch : 3 >> error : 0.016069906977395326\n",
            "epoch : 5, batch : 4 >> error : 0.01408392208733045\n",
            "epoch : 5, batch : 5 >> error : 0.015198859388509083\n",
            "epoch : 5, batch : 6 >> error : 0.015057594064462632\n",
            "epoch : 5, batch : 7 >> error : 0.015745278779558586\n",
            "epoch : 5, batch : 8 >> error : 0.012976961426242956\n",
            "epoch : 5, batch : 9 >> error : 0.01539772692244106\n",
            "epoch : 5, batch : 10 >> error : 0.013886805324596305\n",
            "epoch : 5, batch : 11 >> error : 0.013013194055573383\n",
            "epoch : 5, batch : 12 >> error : 0.013852134332093442\n",
            "epoch : 5, batch : 13 >> error : 0.013830217071148884\n",
            "epoch : 5, batch : 14 >> error : 0.013098364800006127\n",
            "epoch : 5, batch : 15 >> error : 0.014624113756010294\n",
            "epoch : 5, batch : 16 >> error : 0.014759998572834854\n",
            "epoch : 5, batch : 17 >> error : 0.01266841107916823\n",
            "epoch : 5, batch : 18 >> error : 0.013449979692874503\n",
            "epoch : 5, batch : 19 >> error : 0.014412082076486003\n",
            "epoch : 5, batch : 20 >> error : 0.012491712070217504\n",
            "epoch : 5, batch : 21 >> error : 0.013073580648325138\n",
            "epoch : 5, batch : 22 >> error : 0.013316375100736416\n",
            "epoch : 5, batch : 23 >> error : 0.01362612148455628\n",
            "epoch : 5, batch : 24 >> error : 0.012070818150688537\n",
            "epoch : 5, batch : 25 >> error : 0.013511036811875024\n",
            "epoch : 5, batch : 26 >> error : 0.012661612852094118\n",
            "epoch : 5, batch : 27 >> error : 0.012742651077446595\n",
            "epoch : 5, batch : 28 >> error : 0.012465432795412875\n",
            "epoch : 5, batch : 29 >> error : 0.0126332980741119\n",
            "epoch : 5, batch : 30 >> error : 0.012965219319902679\n",
            "epoch : 5, batch : 31 >> error : 0.012941868718575611\n",
            "epoch : 5, batch : 32 >> error : 0.012201848189342912\n",
            "epoch : 5, batch : 33 >> error : 0.012661343216717342\n",
            "epoch : 5, batch : 34 >> error : 0.012162801486629633\n",
            "epoch : 5, batch : 35 >> error : 0.012129250908380245\n",
            "epoch : 5, batch : 36 >> error : 0.010937440472744085\n",
            "epoch : 5, batch : 37 >> error : 0.012848852141771033\n",
            "epoch : 6, batch : 0 >> error : 0.011608434796039829\n",
            "epoch : 6, batch : 1 >> error : 0.012204853815839767\n",
            "epoch : 6, batch : 2 >> error : 0.012072438690180567\n",
            "epoch : 6, batch : 3 >> error : 0.011943231267618112\n",
            "epoch : 6, batch : 4 >> error : 0.011422398158635856\n",
            "epoch : 6, batch : 5 >> error : 0.010536971278401362\n",
            "epoch : 6, batch : 6 >> error : 0.011725000694224271\n",
            "epoch : 6, batch : 7 >> error : 0.012039956775332858\n",
            "epoch : 6, batch : 8 >> error : 0.011651188145259702\n",
            "epoch : 6, batch : 9 >> error : 0.011093028439482129\n",
            "epoch : 6, batch : 10 >> error : 0.011375902375861262\n",
            "epoch : 6, batch : 11 >> error : 0.010505001855257703\n",
            "epoch : 6, batch : 12 >> error : 0.010630247470887052\n",
            "epoch : 6, batch : 13 >> error : 0.01016026510513831\n",
            "epoch : 6, batch : 14 >> error : 0.010317945203975634\n",
            "epoch : 6, batch : 15 >> error : 0.010182429307709823\n",
            "epoch : 6, batch : 16 >> error : 0.011888974629850276\n",
            "epoch : 6, batch : 17 >> error : 0.010235867608637103\n",
            "epoch : 6, batch : 18 >> error : 0.01093616642068932\n",
            "epoch : 6, batch : 19 >> error : 0.010619899730834773\n",
            "epoch : 6, batch : 20 >> error : 0.010898358106365386\n",
            "epoch : 6, batch : 21 >> error : 0.011492148702667862\n",
            "epoch : 6, batch : 22 >> error : 0.009643812555175234\n",
            "epoch : 6, batch : 23 >> error : 0.010095798129528209\n",
            "epoch : 6, batch : 24 >> error : 0.010596534759315735\n",
            "epoch : 6, batch : 25 >> error : 0.010092898126641263\n",
            "epoch : 6, batch : 26 >> error : 0.010433355389022679\n",
            "epoch : 6, batch : 27 >> error : 0.010998397433494064\n",
            "epoch : 6, batch : 28 >> error : 0.010042675719252154\n",
            "epoch : 6, batch : 29 >> error : 0.011928273035631863\n",
            "epoch : 6, batch : 30 >> error : 0.010673045466522322\n",
            "epoch : 6, batch : 31 >> error : 0.010124885991875334\n",
            "epoch : 6, batch : 32 >> error : 0.010372425865605639\n",
            "epoch : 6, batch : 33 >> error : 0.009065168732942736\n",
            "epoch : 6, batch : 34 >> error : 0.009310582566621161\n",
            "epoch : 6, batch : 35 >> error : 0.010136717095764214\n",
            "epoch : 6, batch : 36 >> error : 0.009223632133131186\n",
            "epoch : 6, batch : 37 >> error : 0.011353991095871799\n",
            "epoch : 7, batch : 0 >> error : 0.008466106527625559\n",
            "epoch : 7, batch : 1 >> error : 0.010285435186040399\n",
            "epoch : 7, batch : 2 >> error : 0.009792338874653013\n",
            "epoch : 7, batch : 3 >> error : 0.010469616495252356\n",
            "epoch : 7, batch : 4 >> error : 0.009672470674596251\n",
            "epoch : 7, batch : 5 >> error : 0.010040991930264653\n",
            "epoch : 7, batch : 6 >> error : 0.010366516937967541\n",
            "epoch : 7, batch : 7 >> error : 0.01005259071356593\n",
            "epoch : 7, batch : 8 >> error : 0.010547062599353601\n",
            "epoch : 7, batch : 9 >> error : 0.009838890813986598\n",
            "epoch : 7, batch : 10 >> error : 0.009320861254467119\n",
            "epoch : 7, batch : 11 >> error : 0.009289852880565257\n",
            "epoch : 7, batch : 12 >> error : 0.00981974299925792\n",
            "epoch : 7, batch : 13 >> error : 0.009620481087333693\n",
            "epoch : 7, batch : 14 >> error : 0.009366212637556062\n",
            "epoch : 7, batch : 15 >> error : 0.009394733862604242\n",
            "epoch : 7, batch : 16 >> error : 0.010258632479697459\n",
            "epoch : 7, batch : 17 >> error : 0.010695646196747113\n",
            "epoch : 7, batch : 18 >> error : 0.008945789391568473\n",
            "epoch : 7, batch : 19 >> error : 0.008746034648726739\n",
            "epoch : 7, batch : 20 >> error : 0.010319458382155566\n",
            "epoch : 7, batch : 21 >> error : 0.010158924759144766\n",
            "epoch : 7, batch : 22 >> error : 0.009691979706710548\n",
            "epoch : 7, batch : 23 >> error : 0.009220406610641446\n",
            "epoch : 7, batch : 24 >> error : 0.009231032207882928\n",
            "epoch : 7, batch : 25 >> error : 0.00836022816060643\n",
            "epoch : 7, batch : 26 >> error : 0.00812823302457089\n",
            "epoch : 7, batch : 27 >> error : 0.008549879203117948\n",
            "epoch : 7, batch : 28 >> error : 0.009245173224261027\n",
            "epoch : 7, batch : 29 >> error : 0.009756083560034148\n",
            "epoch : 7, batch : 30 >> error : 0.00922666549447866\n",
            "epoch : 7, batch : 31 >> error : 0.010409459022481504\n",
            "epoch : 7, batch : 32 >> error : 0.009567103895794061\n",
            "epoch : 7, batch : 33 >> error : 0.00878767495059078\n",
            "epoch : 7, batch : 34 >> error : 0.010252491273229487\n",
            "epoch : 7, batch : 35 >> error : 0.008521969508847232\n",
            "epoch : 7, batch : 36 >> error : 0.01097468111081707\n",
            "epoch : 7, batch : 37 >> error : 0.009929064859816582\n",
            "epoch : 8, batch : 0 >> error : 0.009577989531719396\n",
            "epoch : 8, batch : 1 >> error : 0.009239197340223021\n",
            "epoch : 8, batch : 2 >> error : 0.009108810121125528\n",
            "epoch : 8, batch : 3 >> error : 0.009140440602759635\n",
            "epoch : 8, batch : 4 >> error : 0.00977587192534631\n",
            "epoch : 8, batch : 5 >> error : 0.009019900037835983\n",
            "epoch : 8, batch : 6 >> error : 0.008537259182854688\n",
            "epoch : 8, batch : 7 >> error : 0.00977174814457191\n",
            "epoch : 8, batch : 8 >> error : 0.009436708786545019\n",
            "epoch : 8, batch : 9 >> error : 0.0095373282438121\n",
            "epoch : 8, batch : 10 >> error : 0.010206177530814858\n",
            "epoch : 8, batch : 11 >> error : 0.010056782159803808\n",
            "epoch : 8, batch : 12 >> error : 0.008799710001686558\n",
            "epoch : 8, batch : 13 >> error : 0.009462893469282486\n",
            "epoch : 8, batch : 14 >> error : 0.009166734189284454\n",
            "epoch : 8, batch : 15 >> error : 0.010154741761750727\n",
            "epoch : 8, batch : 16 >> error : 0.008745259870702213\n",
            "epoch : 8, batch : 17 >> error : 0.0090455078497413\n",
            "epoch : 8, batch : 18 >> error : 0.008865957354391968\n",
            "epoch : 8, batch : 19 >> error : 0.008246450712821138\n",
            "epoch : 8, batch : 20 >> error : 0.008722621557576376\n",
            "epoch : 8, batch : 21 >> error : 0.010035156396833132\n",
            "epoch : 8, batch : 22 >> error : 0.009026503374716315\n",
            "epoch : 8, batch : 23 >> error : 0.009742817407772239\n",
            "epoch : 8, batch : 24 >> error : 0.009010818657473595\n",
            "epoch : 8, batch : 25 >> error : 0.008136850931633677\n",
            "epoch : 8, batch : 26 >> error : 0.009605590666837412\n",
            "epoch : 8, batch : 27 >> error : 0.007908571570532813\n",
            "epoch : 8, batch : 28 >> error : 0.010334511477821755\n",
            "epoch : 8, batch : 29 >> error : 0.008956922596736744\n",
            "epoch : 8, batch : 30 >> error : 0.007563572605206818\n",
            "epoch : 8, batch : 31 >> error : 0.008721196382544837\n",
            "epoch : 8, batch : 32 >> error : 0.0095575883065325\n",
            "epoch : 8, batch : 33 >> error : 0.00905595774894541\n",
            "epoch : 8, batch : 34 >> error : 0.00918500465215806\n",
            "epoch : 8, batch : 35 >> error : 0.00821258711461616\n",
            "epoch : 8, batch : 36 >> error : 0.008725585669855753\n",
            "epoch : 8, batch : 37 >> error : 0.008160901659719368\n",
            "epoch : 9, batch : 0 >> error : 0.009522343065435288\n",
            "epoch : 9, batch : 1 >> error : 0.009862606600376779\n",
            "epoch : 9, batch : 2 >> error : 0.009551956230921685\n",
            "epoch : 9, batch : 3 >> error : 0.007859985206748282\n",
            "epoch : 9, batch : 4 >> error : 0.008030536740303199\n",
            "epoch : 9, batch : 5 >> error : 0.009185481397993678\n",
            "epoch : 9, batch : 6 >> error : 0.008576589580597743\n",
            "epoch : 9, batch : 7 >> error : 0.009156821477567828\n",
            "epoch : 9, batch : 8 >> error : 0.00817534351112141\n",
            "epoch : 9, batch : 9 >> error : 0.00975575448161142\n",
            "epoch : 9, batch : 10 >> error : 0.009221006952112133\n",
            "epoch : 9, batch : 11 >> error : 0.008853175104114708\n",
            "epoch : 9, batch : 12 >> error : 0.008648933481129627\n",
            "epoch : 9, batch : 13 >> error : 0.009486601837872125\n",
            "epoch : 9, batch : 14 >> error : 0.009006197178625162\n",
            "epoch : 9, batch : 15 >> error : 0.009020955976446197\n",
            "epoch : 9, batch : 16 >> error : 0.008646177864758041\n",
            "epoch : 9, batch : 17 >> error : 0.008584531129631022\n",
            "epoch : 9, batch : 18 >> error : 0.009873160556330269\n",
            "epoch : 9, batch : 19 >> error : 0.008431059268174938\n",
            "epoch : 9, batch : 20 >> error : 0.009615400053434883\n",
            "epoch : 9, batch : 21 >> error : 0.009453308015163154\n",
            "epoch : 9, batch : 22 >> error : 0.007997825133223824\n",
            "epoch : 9, batch : 23 >> error : 0.008743157866307971\n",
            "epoch : 9, batch : 24 >> error : 0.00859927508245841\n",
            "epoch : 9, batch : 25 >> error : 0.008976931462198362\n",
            "epoch : 9, batch : 26 >> error : 0.010303034901170212\n",
            "epoch : 9, batch : 27 >> error : 0.008295943014198403\n",
            "epoch : 9, batch : 28 >> error : 0.007910158610741439\n",
            "epoch : 9, batch : 29 >> error : 0.009387184358163119\n",
            "epoch : 9, batch : 30 >> error : 0.008970343024065247\n",
            "epoch : 9, batch : 31 >> error : 0.008388072585014767\n",
            "epoch : 9, batch : 32 >> error : 0.008551019455918839\n",
            "epoch : 9, batch : 33 >> error : 0.008814342599697735\n",
            "epoch : 9, batch : 34 >> error : 0.007633397091943909\n",
            "epoch : 9, batch : 35 >> error : 0.010072559397503853\n",
            "epoch : 9, batch : 36 >> error : 0.008727120393666238\n",
            "epoch : 9, batch : 37 >> error : 0.009356460303126644\n",
            "epoch : 10, batch : 0 >> error : 0.008176277895045365\n",
            "epoch : 10, batch : 1 >> error : 0.00936198107808759\n",
            "epoch : 10, batch : 2 >> error : 0.008245688420484365\n",
            "epoch : 10, batch : 3 >> error : 0.009298092451264414\n",
            "epoch : 10, batch : 4 >> error : 0.010182992275571127\n",
            "epoch : 10, batch : 5 >> error : 0.009044408584908901\n",
            "epoch : 10, batch : 6 >> error : 0.008594464989013917\n",
            "epoch : 10, batch : 7 >> error : 0.008918396868136304\n",
            "epoch : 10, batch : 8 >> error : 0.009354712947031073\n",
            "epoch : 10, batch : 9 >> error : 0.009551314676374293\n",
            "epoch : 10, batch : 10 >> error : 0.007825129149650485\n",
            "epoch : 10, batch : 11 >> error : 0.008388210038319103\n",
            "epoch : 10, batch : 12 >> error : 0.009044851191914014\n",
            "epoch : 10, batch : 13 >> error : 0.009773122662969596\n",
            "epoch : 10, batch : 14 >> error : 0.008212200877030907\n",
            "epoch : 10, batch : 15 >> error : 0.008209932303920415\n",
            "epoch : 10, batch : 16 >> error : 0.00891286080993875\n",
            "epoch : 10, batch : 17 >> error : 0.009403928260226391\n",
            "epoch : 10, batch : 18 >> error : 0.010148510504235425\n",
            "epoch : 10, batch : 19 >> error : 0.008724125243974697\n",
            "epoch : 10, batch : 20 >> error : 0.008914010721485618\n",
            "epoch : 10, batch : 21 >> error : 0.009405633361831275\n",
            "epoch : 10, batch : 22 >> error : 0.008684006420969892\n",
            "epoch : 10, batch : 23 >> error : 0.009617152681774085\n",
            "epoch : 10, batch : 24 >> error : 0.009758589280082799\n",
            "epoch : 10, batch : 25 >> error : 0.00738961400134555\n",
            "epoch : 10, batch : 26 >> error : 0.009142194195810378\n",
            "epoch : 10, batch : 27 >> error : 0.009163022002941253\n",
            "epoch : 10, batch : 28 >> error : 0.008244821149575534\n",
            "epoch : 10, batch : 29 >> error : 0.009709068512160234\n",
            "epoch : 10, batch : 30 >> error : 0.00827540056042695\n",
            "epoch : 10, batch : 31 >> error : 0.010022696942616037\n",
            "epoch : 10, batch : 32 >> error : 0.0077749406381554444\n",
            "epoch : 10, batch : 33 >> error : 0.007759036899831742\n",
            "epoch : 10, batch : 34 >> error : 0.008333532367549447\n",
            "epoch : 10, batch : 35 >> error : 0.007203601739324103\n",
            "epoch : 10, batch : 36 >> error : 0.008423084745115602\n",
            "epoch : 10, batch : 37 >> error : 0.008711148627848782\n",
            "epoch : 11, batch : 0 >> error : 0.007678878568288197\n",
            "epoch : 11, batch : 1 >> error : 0.009774044540680149\n",
            "epoch : 11, batch : 2 >> error : 0.008316530580476402\n",
            "epoch : 11, batch : 3 >> error : 0.008428028068006656\n",
            "epoch : 11, batch : 4 >> error : 0.009330848503703162\n",
            "epoch : 11, batch : 5 >> error : 0.008923683884541565\n",
            "epoch : 11, batch : 6 >> error : 0.009042427985411473\n",
            "epoch : 11, batch : 7 >> error : 0.010522451791429785\n",
            "epoch : 11, batch : 8 >> error : 0.008629870452611732\n",
            "epoch : 11, batch : 9 >> error : 0.008469893808903589\n",
            "epoch : 11, batch : 10 >> error : 0.00860456082967855\n",
            "epoch : 11, batch : 11 >> error : 0.008437315496333352\n",
            "epoch : 11, batch : 12 >> error : 0.007738245376128507\n",
            "epoch : 11, batch : 13 >> error : 0.008938273852833297\n",
            "epoch : 11, batch : 14 >> error : 0.008498949754240976\n",
            "epoch : 11, batch : 15 >> error : 0.00874527833086458\n",
            "epoch : 11, batch : 16 >> error : 0.007919024679921031\n",
            "epoch : 11, batch : 17 >> error : 0.008728698791006394\n",
            "epoch : 11, batch : 18 >> error : 0.0080310112750642\n",
            "epoch : 11, batch : 19 >> error : 0.007970248735607876\n",
            "epoch : 11, batch : 20 >> error : 0.009422558192192444\n",
            "epoch : 11, batch : 21 >> error : 0.00684972143110175\n",
            "epoch : 11, batch : 22 >> error : 0.010162878282352893\n",
            "epoch : 11, batch : 23 >> error : 0.008852156782726377\n",
            "epoch : 11, batch : 24 >> error : 0.008772518316322399\n",
            "epoch : 11, batch : 25 >> error : 0.009668423142212695\n",
            "epoch : 11, batch : 26 >> error : 0.008644702648465894\n",
            "epoch : 11, batch : 27 >> error : 0.01055581888090731\n",
            "epoch : 11, batch : 28 >> error : 0.008606953316649743\n",
            "epoch : 11, batch : 29 >> error : 0.008624583729287321\n",
            "epoch : 11, batch : 30 >> error : 0.007845689440830833\n",
            "epoch : 11, batch : 31 >> error : 0.009098667548861152\n",
            "epoch : 11, batch : 32 >> error : 0.009051252729603393\n",
            "epoch : 11, batch : 33 >> error : 0.009309891981491533\n",
            "epoch : 11, batch : 34 >> error : 0.009318748362956097\n",
            "epoch : 11, batch : 35 >> error : 0.008033481934239388\n",
            "epoch : 11, batch : 36 >> error : 0.009781399989384255\n",
            "epoch : 11, batch : 37 >> error : 0.009444529302574127\n",
            "epoch : 12, batch : 0 >> error : 0.009653167814211239\n",
            "epoch : 12, batch : 1 >> error : 0.008596181855478495\n",
            "epoch : 12, batch : 2 >> error : 0.01023402496174604\n",
            "epoch : 12, batch : 3 >> error : 0.008004480951396595\n",
            "epoch : 12, batch : 4 >> error : 0.008555076414133497\n",
            "epoch : 12, batch : 5 >> error : 0.008424354242522055\n",
            "epoch : 12, batch : 6 >> error : 0.009323829372969697\n",
            "epoch : 12, batch : 7 >> error : 0.009237366213934593\n",
            "epoch : 12, batch : 8 >> error : 0.009256212230216394\n",
            "epoch : 12, batch : 9 >> error : 0.00950721127128408\n",
            "epoch : 12, batch : 10 >> error : 0.009100691963823286\n",
            "epoch : 12, batch : 11 >> error : 0.009602500057775904\n",
            "epoch : 12, batch : 12 >> error : 0.008108998473573215\n",
            "epoch : 12, batch : 13 >> error : 0.00892378722073191\n",
            "epoch : 12, batch : 14 >> error : 0.009973014370395746\n",
            "epoch : 12, batch : 15 >> error : 0.008889508872805431\n",
            "epoch : 12, batch : 16 >> error : 0.00836479927648999\n",
            "epoch : 12, batch : 17 >> error : 0.0092418008620887\n",
            "epoch : 12, batch : 18 >> error : 0.008355079870071171\n",
            "epoch : 12, batch : 19 >> error : 0.008647768835742722\n",
            "epoch : 12, batch : 20 >> error : 0.008112525471758782\n",
            "epoch : 12, batch : 21 >> error : 0.009685277918717384\n",
            "epoch : 12, batch : 22 >> error : 0.00970725954062844\n",
            "epoch : 12, batch : 23 >> error : 0.008874597196327227\n",
            "epoch : 12, batch : 24 >> error : 0.008189656219890753\n",
            "epoch : 12, batch : 25 >> error : 0.007843749943323132\n",
            "epoch : 12, batch : 26 >> error : 0.009629702516066678\n",
            "epoch : 12, batch : 27 >> error : 0.009311405968143347\n",
            "epoch : 12, batch : 28 >> error : 0.008973332490366361\n",
            "epoch : 12, batch : 29 >> error : 0.00817561115293072\n",
            "epoch : 12, batch : 30 >> error : 0.007821040613706517\n",
            "epoch : 12, batch : 31 >> error : 0.008640619940440178\n",
            "epoch : 12, batch : 32 >> error : 0.007925878940573726\n",
            "epoch : 12, batch : 33 >> error : 0.007688377749923816\n",
            "epoch : 12, batch : 34 >> error : 0.008925766369224016\n",
            "epoch : 12, batch : 35 >> error : 0.008376508197823552\n",
            "epoch : 12, batch : 36 >> error : 0.007997583999582381\n",
            "epoch : 12, batch : 37 >> error : 0.007919786245191494\n",
            "epoch : 13, batch : 0 >> error : 0.008629768564517004\n",
            "epoch : 13, batch : 1 >> error : 0.011321244626297005\n",
            "epoch : 13, batch : 2 >> error : 0.008731276597491336\n",
            "epoch : 13, batch : 3 >> error : 0.008259635723948104\n",
            "epoch : 13, batch : 4 >> error : 0.00905580906519634\n",
            "epoch : 13, batch : 5 >> error : 0.009421747022438596\n",
            "epoch : 13, batch : 6 >> error : 0.009178396414744248\n",
            "epoch : 13, batch : 7 >> error : 0.010954707191189347\n",
            "epoch : 13, batch : 8 >> error : 0.009399664548401474\n",
            "epoch : 13, batch : 9 >> error : 0.008917437140823312\n",
            "epoch : 13, batch : 10 >> error : 0.008865372352399982\n",
            "epoch : 13, batch : 11 >> error : 0.009327708441596886\n",
            "epoch : 13, batch : 12 >> error : 0.008046732363290043\n",
            "epoch : 13, batch : 13 >> error : 0.008396261380152642\n",
            "epoch : 13, batch : 14 >> error : 0.007858903230497354\n",
            "epoch : 13, batch : 15 >> error : 0.007778988306681399\n",
            "epoch : 13, batch : 16 >> error : 0.007508652143056499\n",
            "epoch : 13, batch : 17 >> error : 0.00785387141299554\n",
            "epoch : 13, batch : 18 >> error : 0.008877816592248943\n",
            "epoch : 13, batch : 19 >> error : 0.010052989243537005\n",
            "epoch : 13, batch : 20 >> error : 0.009769633646744142\n",
            "epoch : 13, batch : 21 >> error : 0.008275104114932586\n",
            "epoch : 13, batch : 22 >> error : 0.009785659865946162\n",
            "epoch : 13, batch : 23 >> error : 0.008521997978507733\n",
            "epoch : 13, batch : 24 >> error : 0.00855106039521622\n",
            "epoch : 13, batch : 25 >> error : 0.009217703094123252\n",
            "epoch : 13, batch : 26 >> error : 0.008831408878628585\n",
            "epoch : 13, batch : 27 >> error : 0.00774393321225862\n",
            "epoch : 13, batch : 28 >> error : 0.008209583126680601\n",
            "epoch : 13, batch : 29 >> error : 0.008280606160848102\n",
            "epoch : 13, batch : 30 >> error : 0.00895775518175469\n",
            "epoch : 13, batch : 31 >> error : 0.008379591307111078\n",
            "epoch : 13, batch : 32 >> error : 0.008463164556662631\n",
            "epoch : 13, batch : 33 >> error : 0.008896583879007302\n",
            "epoch : 13, batch : 34 >> error : 0.0084657603224087\n",
            "epoch : 13, batch : 35 >> error : 0.007480478886384397\n",
            "epoch : 13, batch : 36 >> error : 0.009359603003003543\n",
            "epoch : 13, batch : 37 >> error : 0.007949585568866853\n",
            "epoch : 14, batch : 0 >> error : 0.007317050367292408\n",
            "epoch : 14, batch : 1 >> error : 0.008662752932912889\n",
            "epoch : 14, batch : 2 >> error : 0.00896963035661842\n",
            "epoch : 14, batch : 3 >> error : 0.009601163087288034\n",
            "epoch : 14, batch : 4 >> error : 0.0074506923532846586\n",
            "epoch : 14, batch : 5 >> error : 0.008190035921646084\n",
            "epoch : 14, batch : 6 >> error : 0.009842141711639392\n",
            "epoch : 14, batch : 7 >> error : 0.009353547179674387\n",
            "epoch : 14, batch : 8 >> error : 0.008625207001618184\n",
            "epoch : 14, batch : 9 >> error : 0.00881362908000959\n",
            "epoch : 14, batch : 10 >> error : 0.008911816348906221\n",
            "epoch : 14, batch : 11 >> error : 0.008202256303846762\n",
            "epoch : 14, batch : 12 >> error : 0.008606906869693108\n",
            "epoch : 14, batch : 13 >> error : 0.009088319339693023\n",
            "epoch : 14, batch : 14 >> error : 0.008320526559852921\n",
            "epoch : 14, batch : 15 >> error : 0.008266586210733954\n",
            "epoch : 14, batch : 16 >> error : 0.008228549342771528\n",
            "epoch : 14, batch : 17 >> error : 0.00902712593672163\n",
            "epoch : 14, batch : 18 >> error : 0.007546974719013559\n",
            "epoch : 14, batch : 19 >> error : 0.008187154949142478\n",
            "epoch : 14, batch : 20 >> error : 0.007565971583733478\n",
            "epoch : 14, batch : 21 >> error : 0.008652268786602066\n",
            "epoch : 14, batch : 22 >> error : 0.008864299344267157\n",
            "epoch : 14, batch : 23 >> error : 0.009468672436947604\n",
            "epoch : 14, batch : 24 >> error : 0.009611663309867239\n",
            "epoch : 14, batch : 25 >> error : 0.008157159054630835\n",
            "epoch : 14, batch : 26 >> error : 0.009746073855777457\n",
            "epoch : 14, batch : 27 >> error : 0.008958650142016671\n",
            "epoch : 14, batch : 28 >> error : 0.009347027601286214\n",
            "epoch : 14, batch : 29 >> error : 0.00900286831953692\n",
            "epoch : 14, batch : 30 >> error : 0.010721217683376997\n",
            "epoch : 14, batch : 31 >> error : 0.008397736090688102\n",
            "epoch : 14, batch : 32 >> error : 0.009742946939222261\n",
            "epoch : 14, batch : 33 >> error : 0.009988253279369771\n",
            "epoch : 14, batch : 34 >> error : 0.009509065429965049\n",
            "epoch : 14, batch : 35 >> error : 0.007333665075998409\n",
            "epoch : 14, batch : 36 >> error : 0.008647126941085728\n",
            "epoch : 14, batch : 37 >> error : 0.008800432485949888\n",
            "epoch : 15, batch : 0 >> error : 0.008930514302878343\n",
            "epoch : 15, batch : 1 >> error : 0.010046530342792638\n",
            "epoch : 15, batch : 2 >> error : 0.00912527786802136\n",
            "epoch : 15, batch : 3 >> error : 0.007966539066574728\n",
            "epoch : 15, batch : 4 >> error : 0.008274904428965462\n",
            "epoch : 15, batch : 5 >> error : 0.008570965550629733\n",
            "epoch : 15, batch : 6 >> error : 0.008393789338960381\n",
            "epoch : 15, batch : 7 >> error : 0.008114827696382415\n",
            "epoch : 15, batch : 8 >> error : 0.008262028077462813\n",
            "epoch : 15, batch : 9 >> error : 0.008187899975830146\n",
            "epoch : 15, batch : 10 >> error : 0.00870899040347017\n",
            "epoch : 15, batch : 11 >> error : 0.008672746979369544\n",
            "epoch : 15, batch : 12 >> error : 0.009772192055735731\n",
            "epoch : 15, batch : 13 >> error : 0.008942602249055766\n",
            "epoch : 15, batch : 14 >> error : 0.008847665232048\n",
            "epoch : 15, batch : 15 >> error : 0.007845157967120995\n",
            "epoch : 15, batch : 16 >> error : 0.01018820203774982\n",
            "epoch : 15, batch : 17 >> error : 0.009052255061324269\n",
            "epoch : 15, batch : 18 >> error : 0.008879506670706772\n",
            "epoch : 15, batch : 19 >> error : 0.007160805431991235\n",
            "epoch : 15, batch : 20 >> error : 0.00908085890814494\n",
            "epoch : 15, batch : 21 >> error : 0.009709545517613763\n",
            "epoch : 15, batch : 22 >> error : 0.00879099805022933\n",
            "epoch : 15, batch : 23 >> error : 0.008669864326302483\n",
            "epoch : 15, batch : 24 >> error : 0.008340350030332962\n",
            "epoch : 15, batch : 25 >> error : 0.007190680144588888\n",
            "epoch : 15, batch : 26 >> error : 0.009238585177227974\n",
            "epoch : 15, batch : 27 >> error : 0.00871461216187892\n",
            "epoch : 15, batch : 28 >> error : 0.009061560210151571\n",
            "epoch : 15, batch : 29 >> error : 0.010029883135480935\n",
            "epoch : 15, batch : 30 >> error : 0.009500461378815253\n",
            "epoch : 15, batch : 31 >> error : 0.007934726431626333\n",
            "epoch : 15, batch : 32 >> error : 0.009106629038148005\n",
            "epoch : 15, batch : 33 >> error : 0.00862847163055689\n",
            "epoch : 15, batch : 34 >> error : 0.008740555994858137\n",
            "epoch : 15, batch : 35 >> error : 0.00879205162007627\n",
            "epoch : 15, batch : 36 >> error : 0.008435581354632925\n",
            "epoch : 15, batch : 37 >> error : 0.010166467024786092\n",
            "epoch : 16, batch : 0 >> error : 0.008046210831471584\n",
            "epoch : 16, batch : 1 >> error : 0.008074255394375375\n",
            "epoch : 16, batch : 2 >> error : 0.009787291442497454\n",
            "epoch : 16, batch : 3 >> error : 0.008891395780248662\n",
            "epoch : 16, batch : 4 >> error : 0.009394359551282061\n",
            "epoch : 16, batch : 5 >> error : 0.008680113286430076\n",
            "epoch : 16, batch : 6 >> error : 0.009319369219926434\n",
            "epoch : 16, batch : 7 >> error : 0.0077093560547557\n",
            "epoch : 16, batch : 8 >> error : 0.009043643675057944\n",
            "epoch : 16, batch : 9 >> error : 0.00897565605203645\n",
            "epoch : 16, batch : 10 >> error : 0.008386547525590577\n",
            "epoch : 16, batch : 11 >> error : 0.008691766106769114\n",
            "epoch : 16, batch : 12 >> error : 0.008420927408598516\n",
            "epoch : 16, batch : 13 >> error : 0.008798322478264533\n",
            "epoch : 16, batch : 14 >> error : 0.007647685162204259\n",
            "epoch : 16, batch : 15 >> error : 0.009802311354557608\n",
            "epoch : 16, batch : 16 >> error : 0.008173564431349294\n",
            "epoch : 16, batch : 17 >> error : 0.008959884998449711\n",
            "epoch : 16, batch : 18 >> error : 0.009321154137816052\n",
            "epoch : 16, batch : 19 >> error : 0.007718176659639227\n",
            "epoch : 16, batch : 20 >> error : 0.008313267460824985\n",
            "epoch : 16, batch : 21 >> error : 0.010179692106169203\n",
            "epoch : 16, batch : 22 >> error : 0.010073740939398527\n",
            "epoch : 16, batch : 23 >> error : 0.009193577619911499\n",
            "epoch : 16, batch : 24 >> error : 0.008306023055663324\n",
            "epoch : 16, batch : 25 >> error : 0.007775470218862446\n",
            "epoch : 16, batch : 26 >> error : 0.009307859364681013\n",
            "epoch : 16, batch : 27 >> error : 0.008941024059707826\n",
            "epoch : 16, batch : 28 >> error : 0.008623474700708924\n",
            "epoch : 16, batch : 29 >> error : 0.00896382450568323\n",
            "epoch : 16, batch : 30 >> error : 0.008458209789525137\n",
            "epoch : 16, batch : 31 >> error : 0.008358310915105567\n",
            "epoch : 16, batch : 32 >> error : 0.009116082759480598\n",
            "epoch : 16, batch : 33 >> error : 0.006890718726299794\n",
            "epoch : 16, batch : 34 >> error : 0.010093619501579689\n",
            "epoch : 16, batch : 35 >> error : 0.00902242512643784\n",
            "epoch : 16, batch : 36 >> error : 0.008234265897802403\n",
            "epoch : 16, batch : 37 >> error : 0.010439083583753056\n",
            "epoch : 17, batch : 0 >> error : 0.009174922249485675\n",
            "epoch : 17, batch : 1 >> error : 0.008475142131768202\n",
            "epoch : 17, batch : 2 >> error : 0.008269269932789673\n",
            "epoch : 17, batch : 3 >> error : 0.00878591262152981\n",
            "epoch : 17, batch : 4 >> error : 0.00943847024703228\n",
            "epoch : 17, batch : 5 >> error : 0.009439525854310607\n",
            "epoch : 17, batch : 6 >> error : 0.009202496258723967\n",
            "epoch : 17, batch : 7 >> error : 0.008903987210363087\n",
            "epoch : 17, batch : 8 >> error : 0.010349676174003078\n",
            "epoch : 17, batch : 9 >> error : 0.007662477912678145\n",
            "epoch : 17, batch : 10 >> error : 0.00824889714894713\n",
            "epoch : 17, batch : 11 >> error : 0.008381910630737182\n",
            "epoch : 17, batch : 12 >> error : 0.00847322911586943\n",
            "epoch : 17, batch : 13 >> error : 0.009809259805411231\n",
            "epoch : 17, batch : 14 >> error : 0.008227685179038179\n",
            "epoch : 17, batch : 15 >> error : 0.009072893139002136\n",
            "epoch : 17, batch : 16 >> error : 0.009424916457886413\n",
            "epoch : 17, batch : 17 >> error : 0.008561970557060709\n",
            "epoch : 17, batch : 18 >> error : 0.008875392511675191\n",
            "epoch : 17, batch : 19 >> error : 0.008445563763738865\n",
            "epoch : 17, batch : 20 >> error : 0.008028387178598533\n",
            "epoch : 17, batch : 21 >> error : 0.00843424694923779\n",
            "epoch : 17, batch : 22 >> error : 0.007989930804922125\n",
            "epoch : 17, batch : 23 >> error : 0.008370496864741511\n",
            "epoch : 17, batch : 24 >> error : 0.009213148404558795\n",
            "epoch : 17, batch : 25 >> error : 0.008208976036568229\n",
            "epoch : 17, batch : 26 >> error : 0.008393994834144962\n",
            "epoch : 17, batch : 27 >> error : 0.009279276195128963\n",
            "epoch : 17, batch : 28 >> error : 0.008790732667640785\n",
            "epoch : 17, batch : 29 >> error : 0.007510189586025138\n",
            "epoch : 17, batch : 30 >> error : 0.009695427925572974\n",
            "epoch : 17, batch : 31 >> error : 0.008913509069028916\n",
            "epoch : 17, batch : 32 >> error : 0.00961489840304077\n",
            "epoch : 17, batch : 33 >> error : 0.009350066497957266\n",
            "epoch : 17, batch : 34 >> error : 0.0089535346957334\n",
            "epoch : 17, batch : 35 >> error : 0.008475318044353404\n",
            "epoch : 17, batch : 36 >> error : 0.008689699371363838\n",
            "epoch : 17, batch : 37 >> error : 0.008437812438736213\n",
            "epoch : 18, batch : 0 >> error : 0.00811028000027914\n",
            "epoch : 18, batch : 1 >> error : 0.009076015883370273\n",
            "epoch : 18, batch : 2 >> error : 0.009328475958793167\n",
            "epoch : 18, batch : 3 >> error : 0.009649396700884157\n",
            "epoch : 18, batch : 4 >> error : 0.007966200643031615\n",
            "epoch : 18, batch : 5 >> error : 0.009200730888081488\n",
            "epoch : 18, batch : 6 >> error : 0.009434674929914852\n",
            "epoch : 18, batch : 7 >> error : 0.00944074714371276\n",
            "epoch : 18, batch : 8 >> error : 0.008764605301509345\n",
            "epoch : 18, batch : 9 >> error : 0.008697179974888104\n",
            "epoch : 18, batch : 10 >> error : 0.008070038171880954\n",
            "epoch : 18, batch : 11 >> error : 0.00811170858613159\n",
            "epoch : 18, batch : 12 >> error : 0.007653618164535812\n",
            "epoch : 18, batch : 13 >> error : 0.00951311528890462\n",
            "epoch : 18, batch : 14 >> error : 0.010212033257438224\n",
            "epoch : 18, batch : 15 >> error : 0.007677984555931681\n",
            "epoch : 18, batch : 16 >> error : 0.008344688268607126\n",
            "epoch : 18, batch : 17 >> error : 0.008612139753212551\n",
            "epoch : 18, batch : 18 >> error : 0.01060753677411335\n",
            "epoch : 18, batch : 19 >> error : 0.008444820915250435\n",
            "epoch : 18, batch : 20 >> error : 0.009081839355797556\n",
            "epoch : 18, batch : 21 >> error : 0.008650299813119261\n",
            "epoch : 18, batch : 22 >> error : 0.008473513221040731\n",
            "epoch : 18, batch : 23 >> error : 0.008076183479139272\n",
            "epoch : 18, batch : 24 >> error : 0.008886279963588666\n",
            "epoch : 18, batch : 25 >> error : 0.009316937247705874\n",
            "epoch : 18, batch : 26 >> error : 0.008214445036741937\n",
            "epoch : 18, batch : 27 >> error : 0.008316808886356379\n",
            "epoch : 18, batch : 28 >> error : 0.0074680426145879684\n",
            "epoch : 18, batch : 29 >> error : 0.009143252160076974\n",
            "epoch : 18, batch : 30 >> error : 0.008661361670361151\n",
            "epoch : 18, batch : 31 >> error : 0.009217332381073806\n",
            "epoch : 18, batch : 32 >> error : 0.00952031143331261\n",
            "epoch : 18, batch : 33 >> error : 0.008716793943319567\n",
            "epoch : 18, batch : 34 >> error : 0.009136926428379596\n",
            "epoch : 18, batch : 35 >> error : 0.008444328649721647\n",
            "epoch : 18, batch : 36 >> error : 0.008925195562979256\n",
            "epoch : 18, batch : 37 >> error : 0.008382367019119671\n",
            "epoch : 19, batch : 0 >> error : 0.009048294539375022\n",
            "epoch : 19, batch : 1 >> error : 0.007927714739672593\n",
            "epoch : 19, batch : 2 >> error : 0.008310051724746262\n",
            "epoch : 19, batch : 3 >> error : 0.009019141921173333\n",
            "epoch : 19, batch : 4 >> error : 0.008594917051320775\n",
            "epoch : 19, batch : 5 >> error : 0.008374232061618985\n",
            "epoch : 19, batch : 6 >> error : 0.009291088693702827\n",
            "epoch : 19, batch : 7 >> error : 0.006628269751542286\n",
            "epoch : 19, batch : 8 >> error : 0.008819730795330471\n",
            "epoch : 19, batch : 9 >> error : 0.00800324337016122\n",
            "epoch : 19, batch : 10 >> error : 0.008189369634282647\n",
            "epoch : 19, batch : 11 >> error : 0.009548162064270766\n",
            "epoch : 19, batch : 12 >> error : 0.009179142749264582\n",
            "epoch : 19, batch : 13 >> error : 0.008068078253538112\n",
            "epoch : 19, batch : 14 >> error : 0.009090229612234772\n",
            "epoch : 19, batch : 15 >> error : 0.008299087106355367\n",
            "epoch : 19, batch : 16 >> error : 0.008547786705527697\n",
            "epoch : 19, batch : 17 >> error : 0.010127890431931966\n",
            "epoch : 19, batch : 18 >> error : 0.00893688802605124\n",
            "epoch : 19, batch : 19 >> error : 0.009747042502813812\n",
            "epoch : 19, batch : 20 >> error : 0.008531529985440623\n",
            "epoch : 19, batch : 21 >> error : 0.010892698273229048\n",
            "epoch : 19, batch : 22 >> error : 0.00903495236198243\n",
            "epoch : 19, batch : 23 >> error : 0.008697168147024011\n",
            "epoch : 19, batch : 24 >> error : 0.008510949314484706\n",
            "epoch : 19, batch : 25 >> error : 0.008630404069740487\n",
            "epoch : 19, batch : 26 >> error : 0.007762357281347768\n",
            "epoch : 19, batch : 27 >> error : 0.007864973337545237\n",
            "epoch : 19, batch : 28 >> error : 0.00950508442772527\n",
            "epoch : 19, batch : 29 >> error : 0.008493793812701088\n",
            "epoch : 19, batch : 30 >> error : 0.00891467453726613\n",
            "epoch : 19, batch : 31 >> error : 0.010103032091677445\n",
            "epoch : 19, batch : 32 >> error : 0.008757262394201286\n",
            "epoch : 19, batch : 33 >> error : 0.008005887110697513\n",
            "epoch : 19, batch : 34 >> error : 0.008397417754972328\n",
            "epoch : 19, batch : 35 >> error : 0.008825741254148324\n",
            "epoch : 19, batch : 36 >> error : 0.009408393720276591\n",
            "epoch : 19, batch : 37 >> error : 0.00988230961556079\n"
          ],
          "name": "stdout"
        }
      ]
    },
    {
      "cell_type": "code",
      "metadata": {
        "colab": {
          "base_uri": "https://localhost:8080/"
        },
        "id": "DmKPCv7-OeqL",
        "outputId": "409c72ac-6aec-4a5e-96dc-522136484fd7"
      },
      "source": [
        "print(m,c)\n"
      ],
      "execution_count": 24,
      "outputs": [
        {
          "output_type": "stream",
          "text": [
            "0.6389005782755995 0.06295393238612246\n"
          ],
          "name": "stdout"
        }
      ]
    },
    {
      "cell_type": "code",
      "metadata": {
        "colab": {
          "base_uri": "https://localhost:8080/",
          "height": 312
        },
        "id": "6IlOGeUROpMI",
        "outputId": "65912b5c-bd86-4c17-898e-9abf06972446"
      },
      "source": [
        "x1 = range(epochs*(number_of_batches+1))\n",
        "y1 = error_list\n",
        "\n",
        "plt.plot(x1,y1)\n",
        "plt.xlabel(\"number of updations\")\n",
        "plt.ylabel(\"error\")\n",
        "plt.title(\"error graph in case of Mini Batch GD\")\n"
      ],
      "execution_count": 25,
      "outputs": [
        {
          "output_type": "execute_result",
          "data": {
            "text/plain": [
              "Text(0.5, 1.0, 'error graph in case of Mini Batch GD')"
            ]
          },
          "metadata": {
            "tags": []
          },
          "execution_count": 25
        },
        {
          "output_type": "display_data",
          "data": {
            "image/png": "[encoded data removed]",
            "text/plain": [
              "<Figure size 432x288 with 1 Axes>"
            ]
          },
          "metadata": {
            "tags": [],
            "needs_background": "light"
          }
        }
      ]
    },
    {
      "cell_type": "code",
      "metadata": {
        "colab": {
          "base_uri": "https://localhost:8080/",
          "height": 298
        },
        "id": "WaAIXXutOro8",
        "outputId": "b568b79d-c2d8-4c76-fc3a-a54a7a1a1cc5"
      },
      "source": [
        "x2 = [a[0] for a in cleaned_data_test]\n",
        "y2 = [m*i+c for i in x2]\n",
        "\n",
        "x1 = [a[0] for a in cleaned_data_test]\n",
        "y1 = [a[1] for a in cleaned_data_test]\n",
        "\n",
        "plt.plot(x2,y2)\n",
        "\n",
        "plt.scatter(x1,y1)\n",
        "\n",
        "plt.title(\"line which is generated after training\")\n"
      ],
      "execution_count": 26,
      "outputs": [
        {
          "output_type": "execute_result",
          "data": {
            "text/plain": [
              "Text(0.5, 1.0, 'line which is generated after training')"
            ]
          },
          "metadata": {
            "tags": []
          },
          "execution_count": 26
        },
        {
          "output_type": "display_data",
          "data": {
            "image/png": "[encoded data removed]",
            "text/plain": [
              "<Figure size 432x288 with 1 Axes>"
            ]
          },
          "metadata": {
            "tags": [],
            "needs_background": "light"
          }
        }
      ]
    },
    {
      "cell_type": "code",
      "metadata": {
        "colab": {
          "base_uri": "https://localhost:8080/"
        },
        "id": "5GbE0Wo-OyDx",
        "outputId": "26c6242e-47e4-48a9-b53a-d8c4d85b1977"
      },
      "source": [
        "train_error = error(cleaned_data_train,m,c)\n",
        "test_error = error(cleaned_data_test,m,c)\n",
        "\n",
        "print(\"train error is : \",train_error)\n",
        "print(\"test error is : \",test_error)"
      ],
      "execution_count": 28,
      "outputs": [
        {
          "output_type": "stream",
          "text": [
            "train error is :  0.008780734194470372\n",
            "test error is :  0.009644493944425406\n"
          ],
          "name": "stdout"
        }
      ]
    },
    {
      "cell_type": "code",
      "metadata": {
        "colab": {
          "base_uri": "https://localhost:8080/"
        },
        "id": "fiB-9v45O7bd",
        "outputId": "13eb24f0-6985-409e-daff-269025a92677"
      },
      "source": [
        "input_area = int(input(\"enter the input area : \"))\n",
        "\n",
        "max_price = 7.700000e+06\n",
        "min_price = 7.500000e+04\n",
        "\n",
        "max_area = 13540.000000\n",
        "min_area = 290.000000\n",
        "\n",
        "input_area = (input_area - min_area)/(max_area-min_area)\n",
        "output_price = input_area*m+c\n",
        "\n",
        "output_price = output_price*(max_price-min_price)+min_price\n",
        "\n",
        "print(\"predicted house price is : \",output_price)\n"
      ],
      "execution_count": 30,
      "outputs": [
        {
          "output_type": "stream",
          "text": [
            "enter the input area : 1265\n",
            "predicted house price is :  913501.2051323091\n"
          ],
          "name": "stdout"
        }
      ]
    }
  ]
}